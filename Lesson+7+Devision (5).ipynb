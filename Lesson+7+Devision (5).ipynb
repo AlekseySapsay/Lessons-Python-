{
 "cells": [
  {
   "cell_type": "markdown",
   "metadata": {},
   "source": [
    "x + y\tСложение\n",
    "x * y\tУмножение\n",
    "x / y\tДеление\n",
    "x // y\tПолучение целой части от деления\n",
    "x % y\tОстаток от деления"
   ]
  },
  {
   "cell_type": "markdown",
   "metadata": {},
   "source": [
    "    7.1. В вашем отделе работают три программиста -- джун, миддл и сеньор. При этом не обязательно зарплата сеньора самая высокая. Введите в программу три числа (зарплаты) и определите, у кого она самая высокая, у кого самая низкая, и во сколько раз самая большая отличается от самой маленькой."
   ]
  },
  {
   "cell_type": "code",
   "execution_count": null,
   "metadata": {},
   "outputs": [],
   "source": [
    "junior=int(input(\" Enter junior salary \"))\n",
    "middle=int(input(\" Enter middle salary \"))\n",
    "senior=int(input(\" Enter senior slary \"))\n",
    "\n",
    "\n",
    "# select position of employee\n",
    "position={0:\"junior\",1:\"middle\",2:\"senior\"}\n",
    "number_in_position_max=0\n",
    "number_in_position_min=0\n",
    "\n",
    "# exeption\n",
    "if junior==middle or junior==senior or middle==senior:\n",
    "    print(\"Error! Salary is eqvivalent\")\n",
    "    print(\"Try other numbers\")\n",
    "    \n",
    "# max number selection\n",
    "else:\n",
    "    max=junior\n",
    "if max<middle:\n",
    "    max=middle\n",
    "    number_in_position_max+=1\n",
    "if max<senior:\n",
    "    max=senior\n",
    "    number_in_position_max+=1\n",
    "print(\" Maximum salary is \" + str(max) +\" for \"+ position[number_in_position_max])\n",
    "\n",
    "# min number selection\n",
    "\n",
    "min=junior\n",
    "if min>middle:\n",
    "    min=middle\n",
    "    number_in_position_min+=1\n",
    "if min>senior:\n",
    "    min=senior\n",
    "    number_in_position_min+=1\n",
    "print(\" Minimum salary is \"+ str(min) + \" for \"+ position[number_in_position_min])\n",
    "\n",
    "# devision salary\n",
    "\n",
    "greater_then=max/min\n",
    "\n",
    "print(\"Salary for \"+ position[number_in_position_max] +\" is greater than the salary for position \"+ position[number_in_position_min]+\" at \"+ str(greater_then) +\" times\")\n"
   ]
  },
  {
   "cell_type": "markdown",
   "metadata": {},
   "source": [
    "    7.2. Ваш фрегат электронно-технического дозора в ходе разведки плутониевых залежей в галактике Tama обнаружил вражеское транспортное судно и включил скрамблер, чтобы заблокировать возможность его побега. Но для этого вам придётся проявить максимум мастерства, чтобы удерживать скорость противника в очень узком диапазоне.\n",
    "    Введите два вещественных числа и проверьте, совпадают ли они с точностью до третьего знака после запятой включительно."
   ]
  },
  {
   "cell_type": "code",
   "execution_count": null,
   "metadata": {},
   "outputs": [],
   "source": [
    "num1=float(input(\" Enter first real number \"))\n",
    "num2=float(input( \" Enter second real number \"))\n",
    "\n",
    "num1=int(num1*1000)\n",
    "num2=int(num2*1000)\n",
    "\n",
    "if num1==num2:\n",
    "    print(\" The numses is equivalent\")\n",
    "else:\n",
    "    print( \" The numses is not equivalent! \")"
   ]
  },
  {
   "cell_type": "markdown",
   "metadata": {},
   "source": [
    "    7.4. Введите целое число и напечатайте, чётное ли оно."
   ]
  },
  {
   "cell_type": "code",
   "execution_count": null,
   "metadata": {},
   "outputs": [],
   "source": [
    "a=int(input(\" Enter number \"))\n",
    "if a%2==0:\n",
    "    print(\" The number \"+str(a)+ \" is even\")\n",
    "else:\n",
    "    print(\" The number is not \"+str(a)+ \" even\")"
   ]
  },
  {
   "cell_type": "markdown",
   "metadata": {},
   "source": [
    "    7.3. Введите в программу свой год рождения, и напишите код, который определит, високосный ли это год."
   ]
  },
  {
   "cell_type": "code",
   "execution_count": null,
   "metadata": {},
   "outputs": [],
   "source": [
    "age=int(input(\" Enter age of your birth \"))\n",
    "\n",
    "if age%400==0 or (age%4==0 and age%100!=0):\n",
    "    print(\"The age \"+ str(age) +\" is leap year\")\n",
    "else:\n",
    "    print(\"The age \"+ str(age) +\" is not leap year\")\n",
    "        "
   ]
  },
  {
   "cell_type": "markdown",
   "metadata": {},
   "source": [
    "    7.5. Три бандита, Джек, Джон и Джун, никак не могут разобраться с награбленным. Каждый из них утащил несколько ящиков с золотом, и теперь они ругаются, кому же было тяжелее всего.\n",
    "    Введите три числа и напечатайте \"all equals\" если все числа равны, \"all different\" если все числа различны, и \"equal or different\" в противном случае."
   ]
  },
  {
   "cell_type": "code",
   "execution_count": null,
   "metadata": {},
   "outputs": [],
   "source": [
    "grabber1=int(input(\" Enter mass in kg for 1 grabber \"))\n",
    "grabber2=int(input(\" Enter mass in kg for 2 grabber \"))\n",
    "grabber3=int(input(\" Enter mass in kg for 3 grabber \"))\n",
    "\n",
    "answer1=grabber1%grabber2\n",
    "answer2=grabber1%grabber3\n",
    "\n",
    "trigger=0\n",
    "\n",
    "if answer1==0 and answer2==0:\n",
    "    print(\" all equals \")\n",
    "    trigger+=1\n",
    "if (answer1 or answer2)!=0:\n",
    "    print(\" all different \")\n",
    "    trigger+=1\n",
    "if trigger==0:\n",
    "    print(\" equal or different \")\n"
   ]
  },
  {
   "cell_type": "markdown",
   "metadata": {},
   "source": [
    "    другое решение для задачи:"
   ]
  },
  {
   "cell_type": "code",
   "execution_count": null,
   "metadata": {},
   "outputs": [],
   "source": [
    "grabber1=int(input(\" Enter mass in kg for 1 grabber \"))\n",
    "grabber2=int(input(\" Enter mass in kg for 2 grabber \"))\n",
    "grabber3=int(input(\" Enter mass in kg for 3 grabber \"))\n",
    "\n",
    "trigger=0\n",
    "if grabber1==grabber2 and grabber1==grabber3:\n",
    "    print(\" all equals \")\n",
    "    trigger+=1\n",
    "if grabber1!=grabber2 and grabber1!=grabber3 and grabber2!=grabber3:\n",
    "    print(\"all different\")\n",
    "    trigger+=1\n",
    "if trigger==0 :\n",
    "    print( \"equal or different\" )\n",
    "    #print(trigger)\n"
   ]
  },
  {
   "cell_type": "markdown",
   "metadata": {},
   "source": [
    "    7.6.После глобальной блокировки интернета стало невозможным быстро нагуглить, сколько в каком месяце дней, а многие даже стали путать весну и осень.Напишите программу, которая при вводе номера месяца 1..12 выводит количество дней в нём, а также соответствующий сезон года (один из четырёх)."
   ]
  },
  {
   "cell_type": "code",
   "execution_count": null,
   "metadata": {},
   "outputs": [],
   "source": [
    "#brute force solution/ and I will try to find more elegant and clear solution\n",
    "\n",
    "month=int(input(\" Enter number of the month \"))\n",
    "\n",
    "if month==1:\n",
    "    print(\"January\")\n",
    "    print(\" 1 \")\n",
    "if month==2:\n",
    "    print(\"February\")\n",
    "    print(\" 1 \")\n",
    "if month==3:\n",
    "    print(\"March\")\n",
    "    print(\" 2 \")\n",
    "if month==4:\n",
    "    print(\"Aprile\")\n",
    "    print(\" 2 \")\n",
    "if month==5:\n",
    "    print(\"May\")\n",
    "    print(\" 2 \")\n",
    "if month==6:\n",
    "    print(\"June\")\n",
    "    print(\" 3 \")\n",
    "if month==7:\n",
    "    print(\"Jule\")\n",
    "    print(\" 3 \")\n",
    "if month==8:\n",
    "    print(\"August\")\n",
    "    print(\" 3 \")\n",
    "if month==9:\n",
    "    print(\"September\")\n",
    "    print(\" 4 \")\n",
    "if month==10:\n",
    "    print(\"Oktober\")\n",
    "    print(\" 4 \")\n",
    "if month==11:\n",
    "    print(\"November\")\n",
    "    print(\" 4 \")\n",
    "if month==12:\n",
    "    print(\"December\")\n",
    "    print(\" 1 \")"
   ]
  },
  {
   "cell_type": "code",
   "execution_count": null,
   "metadata": {
    "collapsed": true
   },
   "outputs": [],
   "source": []
  },
  {
   "cell_type": "markdown",
   "metadata": {},
   "source": [
    "        7.7. Очень подозрительная фирма неожиданно выиграла подряд на покраску домов в городе. Красятся только четыре стены и только снаружи. Все дома сделаны по типовому проекту -- размер каждой стены W метров в ширину по одной стороне, L метров в ширину по другой стороне, и H метров в высоту. На покраску случайным образом поступают банки одного из двух типов -- объёмом, достаточным для покраски 15 кв.м. и объёмом на 42 кв.м. Заранее неизвестно, какой вид краски прибудет.\n",
    "    \n",
    "    Имеются небезосновательные подозрения, что существенная часть краски сбывается налево. \n",
    "    Ваша задача как общественного инспектора проверить, сколько минимально банок краски требуется для конкретной модели дома.\n",
    "\n",
    "    Входные данные, четыре числа:\n",
    "    объём банки краски (15 или 42 или любое другое) \n",
    "    размеры стены (W L H)"
   ]
  },
  {
   "cell_type": "code",
   "execution_count": 3,
   "metadata": {},
   "outputs": [
    {
     "name": "stdout",
     "output_type": "stream",
     "text": [
      " Enter Square m^2 for one jar 1\n",
      " Enter width of the wall 1.1\n",
      " Enter Length of the wall 1.1\n",
      " Enter Height of the wall 1.1\n",
      "4.840000000000001\n",
      "5\n"
     ]
    }
   ],
   "source": [
    "V=float(input(\" Enter Square m^2 for one jar \"))\n",
    "W=float(input(\" Enter width of the wall \"))\n",
    "L=float(input(\" Enter Length of the wall \"))\n",
    "H=float(input(\" Enter Height of the wall \"))\n",
    "\n",
    "S=2*H*(W+L)\n",
    "N=S/V\n",
    "answer=round(N)\n",
    "print(N)\n",
    "print(answer)\n"
   ]
  },
  {
   "cell_type": "code",
   "execution_count": 9,
   "metadata": {},
   "outputs": [
    {
     "name": "stdout",
     "output_type": "stream",
     "text": [
      " Enter Square m^2 for one jar 1.1\n",
      " Enter width of the wall 1.1\n",
      " Enter Length of the wall 1.1\n",
      " Enter Height of the wall 1.1\n",
      "4.4\n",
      "5\n"
     ]
    }
   ],
   "source": [
    "V=float(input(\" Enter Square m^2 for one jar \"))\n",
    "W=float(input(\" Enter width of the wall \"))\n",
    "L=float(input(\" Enter Length of the wall \"))\n",
    "H=float(input(\" Enter Height of the wall \"))\n",
    "\n",
    "S=2*H*(W+L)\n",
    "N=S/V\n",
    "answer=int(N+1)\n",
    "print(N)\n",
    "print(answer)\n"
   ]
  },
  {
   "cell_type": "markdown",
   "metadata": {},
   "source": [
    "    7.8. Зомби захватывают мир! Вам срочно надо перепрошить бластер, чтобы мгновенно отличать зомби от нормального человека по его идентификационному номеру HID, который высвечивается на сенсорном экране.\n",
    "    \n",
    "    HID человека отличается тем, что делится без остатка и на 5 и на 11.\n",
    "    Срочно перепрошейте свой бластер!"
   ]
  },
  {
   "cell_type": "code",
   "execution_count": null,
   "metadata": {},
   "outputs": [],
   "source": []
  },
  {
   "cell_type": "code",
   "execution_count": null,
   "metadata": {},
   "outputs": [],
   "source": []
  },
  {
   "cell_type": "code",
   "execution_count": null,
   "metadata": {
    "collapsed": true
   },
   "outputs": [],
   "source": []
  }
 ],
 "metadata": {
  "kernelspec": {
   "display_name": "Python 3",
   "language": "python",
   "name": "python3"
  },
  "language_info": {
   "codemirror_mode": {
    "name": "ipython",
    "version": 3
   },
   "file_extension": ".py",
   "mimetype": "text/x-python",
   "name": "python",
   "nbconvert_exporter": "python",
   "pygments_lexer": "ipython3",
   "version": "3.6.1"
  }
 },
 "nbformat": 4,
 "nbformat_minor": 2
}
