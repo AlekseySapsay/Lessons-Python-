{
 "cells": [
  {
   "cell_type": "markdown",
   "metadata": {},
   "source": [
    "    8.1. Напишите программу, которая вычисляет сумму первых N чисел, начиная с 1. Значение N вводится с клавиатуры в начале работы программы."
   ]
  },
  {
   "cell_type": "code",
   "execution_count": 9,
   "metadata": {},
   "outputs": [
    {
     "name": "stdout",
     "output_type": "stream",
     "text": [
      "Enter last number10\n",
      "55\n"
     ]
    }
   ],
   "source": [
    "N=int(input(\"Enter last number\"))\n",
    "sum=0\n",
    "for i in range(1,N+1):\n",
    "    sum+=i\n",
    "    #print(sum)\n",
    "print(sum)"
   ]
  },
  {
   "cell_type": "markdown",
   "metadata": {},
   "source": [
    "8.2. Напишите программу, которая вычисляет сумму квадратов первых N чисел, начиная с 1."
   ]
  },
  {
   "cell_type": "code",
   "execution_count": 8,
   "metadata": {},
   "outputs": [
    {
     "name": "stdout",
     "output_type": "stream",
     "text": [
      "Enter last number10\n",
      "385\n"
     ]
    }
   ],
   "source": [
    "N=int(input(\"Enter last number\"))\n",
    "sum=0\n",
    "for i in range(1,N+1):\n",
    "    sum+=i**2\n",
    "    #print(sum)\n",
    "    #print(i)\n",
    "print(sum)"
   ]
  },
  {
   "cell_type": "markdown",
   "metadata": {},
   "source": [
    "    8.3. Напишите программу, которая вычисляет сумму целых чисел от N до M и выводит эту сумму и среднее значение. N и M вводятся с клавиатуры."
   ]
  },
  {
   "cell_type": "code",
   "execution_count": 7,
   "metadata": {},
   "outputs": [
    {
     "name": "stdout",
     "output_type": "stream",
     "text": [
      "Enter first number1\n",
      "Enter last number10\n",
      "55\n",
      "5.5\n"
     ]
    }
   ],
   "source": [
    "N=int(input(\"Enter first number\"))\n",
    "M=int(input(\"Enter last number\"))\n",
    "\n",
    "\n",
    "sum=0\n",
    "for i in range(N,M+1):\n",
    "    sum+=i\n",
    "    #print(sum)\n",
    "    #print(i)\n",
    "print(sum)\n",
    "print(sum/i)"
   ]
  },
  {
   "cell_type": "markdown",
   "metadata": {},
   "source": [
    "    8.4. Напишите программу, которая будет вычислять сумму только нечётных из первых N чисел, начиная с 0."
   ]
  },
  {
   "cell_type": "code",
   "execution_count": 11,
   "metadata": {},
   "outputs": [
    {
     "name": "stdout",
     "output_type": "stream",
     "text": [
      "Enter last number10\n",
      "30\n"
     ]
    }
   ],
   "source": [
    "N=int(input(\"Enter last number\"))\n",
    "sum=0\n",
    "for i in range(0,N+1):\n",
    "    if i%2==0:\n",
    "        sum+=i\n",
    "    #print(sum)\n",
    "    #print(i)\n",
    "print(sum)"
   ]
  },
  {
   "cell_type": "markdown",
   "metadata": {},
   "source": [
    "8.5. Напишите программу, которая выводит все числа от 0 до 11, кроме чисел 3 и 6."
   ]
  },
  {
   "cell_type": "code",
   "execution_count": 13,
   "metadata": {},
   "outputs": [
    {
     "name": "stdout",
     "output_type": "stream",
     "text": [
      "Enter last number11\n",
      "0\n",
      "1\n",
      "2\n",
      "4\n",
      "5\n",
      "7\n",
      "8\n",
      "9\n",
      "10\n",
      "11\n"
     ]
    }
   ],
   "source": [
    "N=int(input(\"Enter last number\"))\n",
    "sum=0\n",
    "for i in range(0,N+1):\n",
    "    if i!=3 and i!=6:\n",
    "        print(i)"
   ]
  },
  {
   "cell_type": "markdown",
   "metadata": {},
   "source": [
    "    8.6. Напишите программу, которая последовательно выводит числа от 1 до 50, но если число нацело делится на три, печатайте \"*333*\", если число делится нацело на пять, печатайте \"*555*\", а если число делится нацело и на три, и на пять, печатайте \"*333*555*\"."
   ]
  },
  {
   "cell_type": "code",
   "execution_count": 17,
   "metadata": {},
   "outputs": [
    {
     "name": "stdout",
     "output_type": "stream",
     "text": [
      "1\n",
      "2\n",
      "*333*\n",
      "4\n",
      "*555*\n",
      "*333*\n",
      "7\n",
      "8\n",
      "*333*\n",
      "*555*\n",
      "11\n",
      "*333*\n",
      "13\n",
      "14\n",
      "*333*555*\n",
      "16\n",
      "17\n",
      "*333*\n",
      "19\n",
      "*555*\n",
      "*333*\n",
      "22\n",
      "23\n",
      "*333*\n",
      "*555*\n",
      "26\n",
      "*333*\n",
      "28\n",
      "29\n",
      "*333*555*\n",
      "31\n",
      "32\n",
      "*333*\n",
      "34\n",
      "*555*\n",
      "*333*\n",
      "37\n",
      "38\n",
      "*333*\n",
      "*555*\n",
      "41\n",
      "*333*\n",
      "43\n",
      "44\n",
      "*333*555*\n",
      "46\n",
      "47\n",
      "*333*\n",
      "49\n",
      "*555*\n"
     ]
    }
   ],
   "source": [
    "for i in range(1,51):\n",
    "    \n",
    "    if i%3==0 and i%5!=0:\n",
    "        print(\"*333*\")\n",
    "    elif i%5==0 and i%3!=0:\n",
    "        print(\"*555*\")\n",
    "    elif i%3==0 and i%5==0:\n",
    "        print(\"*333*555*\")\n",
    "    else:    \n",
    "        print(i)"
   ]
  },
  {
   "cell_type": "markdown",
   "metadata": {},
   "source": [
    "    8.7. Я уверен, что вы уже вполне созрели до олимпийского уровня!\n",
    "    Вот разминочная задачка с одной из олимпиад по программированию для школьников.\n",
    "\n",
    "    Винни-Пух готовится к зиме и в течении N дней решил не лакомиться медом, а относить полный горшочек объемом X горстей, и перекладывать мёд в бочку. В первый день он донёс горшочек полным, но начиная со следующего дня он больше не смог бороться с искушением и начал выедать из горшочка Y горстей. Причём на каждый следующий день он выедал на Y горстей больше, чем в предыдущий день.\n",
    "\n",
    "    На входе программы три числа: N дней, X -- объём горшочка, Y -- выедаемые горсти. Посчитайте, сколько всего мёда за N дней Винни-Пух накопит в бочке, а также определите день, начиная с которого горшочек будет пустым."
   ]
  },
  {
   "cell_type": "code",
   "execution_count": 38,
   "metadata": {},
   "outputs": [
    {
     "name": "stdout",
     "output_type": "stream",
     "text": [
      "Enter days 10\n",
      "Enter Value 10\n",
      "Enter every day decrement grab of value honey 1\n",
      "-9181 volume of honey collected in 10 days\n",
      " day_zero 2\n"
     ]
    }
   ],
   "source": [
    "N=int(input(\"Enter days \"))\n",
    "V=int(input(\"Enter Value \"))\n",
    "Y=int(input(\"Enter every day decrement grab of value honey \"))\n",
    "\n",
    "day_off=0\n",
    "for i in range(N):\n",
    "    sum+=V-Y\n",
    "    Y+=Y\n",
    "    #print(Y)\n",
    "    if V>=Y:\n",
    "        day_off=i\n",
    "\n",
    "print(str(sum)+\" volume of honey collected in \"+ str(N) +\" days\")\n",
    "print(str(\" day_zero \")+str(day_off))"
   ]
  },
  {
   "cell_type": "markdown",
   "metadata": {},
   "source": [
    "    8.8. Вася начинающий хакер. Он планирует взломать кэш Windows на компьютере приятеля, чтобы вытащить оттуда его пароль ВКонтакте, но пока не может разобраться, какие числа в кэше служебные.\n",
    "    Служебными условно будем считать бинарные числа, которые представляют собой степень двойки -- 1,2,4,8,16,32,... \n",
    "    Помогите Васе определить, будет ли некоторое целое положительное число, вводимое в программу, бинарным."
   ]
  },
  {
   "cell_type": "code",
   "execution_count": null,
   "metadata": {
    "collapsed": true
   },
   "outputs": [],
   "source": []
  }
 ],
 "metadata": {
  "kernelspec": {
   "display_name": "Python 3",
   "language": "python",
   "name": "python3"
  },
  "language_info": {
   "codemirror_mode": {
    "name": "ipython",
    "version": 3
   },
   "file_extension": ".py",
   "mimetype": "text/x-python",
   "name": "python",
   "nbconvert_exporter": "python",
   "pygments_lexer": "ipython3",
   "version": "3.6.1"
  }
 },
 "nbformat": 4,
 "nbformat_minor": 2
}
