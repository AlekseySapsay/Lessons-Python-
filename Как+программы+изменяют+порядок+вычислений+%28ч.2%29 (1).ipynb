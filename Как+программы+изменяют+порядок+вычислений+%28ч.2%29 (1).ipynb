{
 "cells": [
  {
   "cell_type": "markdown",
   "metadata": {},
   "source": [
    "    6.5.1. Я уверен, что вы уже в совершенстве познали искусство сравнения чисел. Напишите программу, которая вводит три числа и выводит самое больше из них."
   ]
  },
  {
   "cell_type": "code",
   "execution_count": null,
   "metadata": {
    "collapsed": true
   },
   "outputs": [],
   "source": [
    "a=int(input(\"enter number 1\"))\n",
    "b=int(input(\"enter number 2\"))\n",
    "c=int(input(\"enter number 3\"))\n",
    "\n",
    "max=a\n",
    "if a>b:\n",
    "    if b>c:\n",
    "        print(\"max is a=\"+ str( max))\n",
    "    elif c>b and c>a:\n",
    "        max=c\n",
    "        print(\"max is c=\" + str( max))\n",
    "elif a<b:\n",
    "    max=b\n",
    "    if b>c:\n",
    "        print(\"max is b=\"+ str( max))\n",
    "    else:\n",
    "        max=c\n",
    "        print(\"max is c=\"+ str( max))\n",
    "elif c>a:\n",
    "    max=c\n",
    "    if max>b:\n",
    "        print(\"max is c=\" +str( max))\n",
    "    else:\n",
    "        max=b\n",
    "        print(\"max is b= \"+ str( max))"
   ]
  },
  {
   "cell_type": "code",
   "execution_count": 3,
   "metadata": {},
   "outputs": [
    {
     "name": "stdout",
     "output_type": "stream",
     "text": [
      "enter number 11\n",
      "enter number 22\n",
      "enter number 33\n",
      "3\n"
     ]
    }
   ],
   "source": [
    "# Можно сделать короче\n",
    "\n",
    "a=int(input(\"enter number 1\"))\n",
    "b=int(input(\"enter number 2\"))\n",
    "c=int(input(\"enter number 3\"))\n",
    "\n",
    "if a >= b and a >= c: print(a) \n",
    "elif b >= a and b >= c: print(b)\n",
    "else: print(c)"
   ]
  },
  {
   "cell_type": "markdown",
   "metadata": {},
   "source": [
    "    6.5.2. Сборная России по футболу вышла в финал Чемпионата Мира, матч с бразильцами только что закончился. Требуется срочно распространить по всему миру информацию, кто же выиграл и каков итоговый счёт. На вход подаются четыре числа -- сколько голов забила Россия и Бразилия в первом тайме, и сколько голов забила Россия и Бразилия во втором тайме.\n",
    "\n",
    "    Например: 0 2 3 0 -- это означает, что Россия выиграла 3:2.\n",
    "\n",
    "    Выведите команду-победителя и счёт матча."
   ]
  },
  {
   "cell_type": "code",
   "execution_count": 9,
   "metadata": {},
   "outputs": [
    {
     "name": "stdout",
     "output_type": "stream",
     "text": [
      "enter score ==1111\n",
      "draw\n",
      "Score is 2 : 2\n"
     ]
    }
   ],
   "source": [
    "score= int(input(\"enter score ==\"))\n",
    "\n",
    "thousands=score//1000\n",
    "hundreds=(score- thousands*1000)//100\n",
    "ten=(score- thousands*1000-hundreds*100)//10\n",
    "num=score- thousands*1000-hundreds*100 -ten*10\n",
    "\n",
    "#print(thousands)\n",
    "#print(hundreds)\n",
    "#print(ten)\n",
    "#print(num)\n",
    "\n",
    "R1=thousands\n",
    "B1=hundreds\n",
    "R2=ten\n",
    "B2=num\n",
    "\n",
    "sumR=R1+R2\n",
    "sumB=B1+B2\n",
    "\n",
    "# selection\n",
    "\n",
    "if sumR>sumB:\n",
    "    print(\"Winner is Russia\")\n",
    "elif sumR==sumB:\n",
    "    print(\"draw\")\n",
    "else:\n",
    "    print(\"Winner is Brasil\")\n",
    "\n",
    "print(\"Score is \" + str(sumR)+\" : \" + str(sumB) )\n"
   ]
  },
  {
   "cell_type": "markdown",
   "metadata": {},
   "source": [
    "    6.5.3. Перезанимавшись программированием и проснувшись утром, вы почему-то не можете вспомнить, какой сегодня день недели, помните только его порядковый номер от 1 до 7. Надо срочно написать код расшифровки.\n",
    "\n",
    "    Напишите программу, которая вводит целое число, и составьте цепочку if else, которая выводит соответствующий числу день недели (название), если это число находится в диапазоне от 1 до 7, и \"unknown\", если число имеет другое значение."
   ]
  },
  {
   "cell_type": "code",
   "execution_count": 8,
   "metadata": {},
   "outputs": [
    {
     "name": "stdout",
     "output_type": "stream",
     "text": [
      "Number of day8\n",
      "unknown\n"
     ]
    }
   ],
   "source": [
    "day=int(input(\"Number of day\"))\n",
    "\n",
    "if day==1:\n",
    "    print(\" Monday \")\n",
    "elif day==2:\n",
    "    print(\" Tuesday \")\n",
    "elif day==3:\n",
    "    print(\"Wednesday\")\n",
    "elif day==4:\n",
    "    print(\"Trursday\")\n",
    "elif day==5:\n",
    "    print(\"Friday\")\n",
    "elif day==6:\n",
    "    print(\"Saturday\")\n",
    "elif day==7:\n",
    "    print(\"Sanday\")\n",
    "else:\n",
    "    print(\"unknown\")"
   ]
  }
 ],
 "metadata": {
  "kernelspec": {
   "display_name": "Python 3",
   "language": "python",
   "name": "python3"
  },
  "language_info": {
   "codemirror_mode": {
    "name": "ipython",
    "version": 3
   },
   "file_extension": ".py",
   "mimetype": "text/x-python",
   "name": "python",
   "nbconvert_exporter": "python",
   "pygments_lexer": "ipython3",
   "version": "3.6.1"
  }
 },
 "nbformat": 4,
 "nbformat_minor": 2
}
