{
 "cells": [
  {
   "cell_type": "markdown",
   "metadata": {},
   "source": [
    "    8.1. Напишите программу, которая вычисляет сумму первых N чисел, начиная с 1. Значение N вводится с клавиатуры в начале работы программы."
   ]
  },
  {
   "cell_type": "code",
   "execution_count": 10,
   "metadata": {},
   "outputs": [
    {
     "name": "stdout",
     "output_type": "stream",
     "text": [
      "Enter last number20\n",
      "210\n"
     ]
    }
   ],
   "source": [
    "N=int(input(\"Enter last number\"))\n",
    "sum=0\n",
    "for i in range(1,N+1):\n",
    "    sum+=i\n",
    "    #print(sum)\n",
    "print(sum)"
   ]
  },
  {
   "cell_type": "markdown",
   "metadata": {},
   "source": [
    "8.2. Напишите программу, которая вычисляет сумму квадратов первых N чисел, начиная с 1."
   ]
  },
  {
   "cell_type": "code",
   "execution_count": 11,
   "metadata": {},
   "outputs": [
    {
     "name": "stdout",
     "output_type": "stream",
     "text": [
      "Enter last number20\n",
      "2870\n"
     ]
    }
   ],
   "source": [
    "N=int(input(\"Enter last number\"))\n",
    "sum=0\n",
    "for i in range(1,N+1):\n",
    "    sum+=i**2\n",
    "    #print(sum)\n",
    "    #print(i)\n",
    "print(sum)"
   ]
  },
  {
   "cell_type": "markdown",
   "metadata": {},
   "source": [
    "    8.3. Напишите программу, которая вычисляет сумму целых чисел от N до M и выводит эту сумму и среднее значение. N и M вводятся с клавиатуры."
   ]
  },
  {
   "cell_type": "code",
   "execution_count": 12,
   "metadata": {},
   "outputs": [
    {
     "name": "stdout",
     "output_type": "stream",
     "text": [
      "Enter first number1\n",
      "Enter last number20\n",
      "210\n",
      "10.5\n"
     ]
    }
   ],
   "source": [
    "N=int(input(\"Enter first number\"))\n",
    "M=int(input(\"Enter last number\"))\n",
    "\n",
    "\n",
    "sum=0\n",
    "for i in range(N,M+1):\n",
    "    sum+=i\n",
    "    #print(sum)\n",
    "    #print(i)\n",
    "print(sum)\n",
    "print(sum/i)"
   ]
  },
  {
   "cell_type": "markdown",
   "metadata": {},
   "source": [
    "    8.4. Напишите программу, которая будет вычислять сумму только нечётных из первых N чисел, начиная с 0."
   ]
  },
  {
   "cell_type": "code",
   "execution_count": 13,
   "metadata": {},
   "outputs": [
    {
     "name": "stdout",
     "output_type": "stream",
     "text": [
      "Enter last number20\n",
      "110\n"
     ]
    }
   ],
   "source": [
    "N=int(input(\"Enter last number\"))\n",
    "sum=0\n",
    "for i in range(0,N+1):\n",
    "    if i%2==0:\n",
    "        sum+=i\n",
    "    #print(sum)\n",
    "    #print(i)\n",
    "print(sum)"
   ]
  },
  {
   "cell_type": "markdown",
   "metadata": {},
   "source": [
    "8.5. Напишите программу, которая выводит все числа от 0 до 11, кроме чисел 3 и 6."
   ]
  },
  {
   "cell_type": "code",
   "execution_count": 14,
   "metadata": {},
   "outputs": [
    {
     "name": "stdout",
     "output_type": "stream",
     "text": [
      "Enter last number11\n",
      "0\n",
      "1\n",
      "2\n",
      "4\n",
      "5\n",
      "7\n",
      "8\n",
      "9\n",
      "10\n",
      "11\n"
     ]
    }
   ],
   "source": [
    "N=int(input(\"Enter last number\"))\n",
    "sum=0\n",
    "for i in range(0,N+1):\n",
    "    if i!=3 and i!=6:\n",
    "        print(i)"
   ]
  },
  {
   "cell_type": "markdown",
   "metadata": {},
   "source": [
    "    8.6. Напишите программу, которая последовательно выводит числа от 1 до 50, но если число нацело делится на три, печатайте \"*333*\", если число делится нацело на пять, печатайте \"*555*\", а если число делится нацело и на три, и на пять, печатайте \"*333*555*\"."
   ]
  },
  {
   "cell_type": "code",
   "execution_count": 15,
   "metadata": {},
   "outputs": [
    {
     "name": "stdout",
     "output_type": "stream",
     "text": [
      "1\n",
      "2\n",
      "*333*\n",
      "4\n",
      "*555*\n",
      "*333*\n",
      "7\n",
      "8\n",
      "*333*\n",
      "*555*\n",
      "11\n",
      "*333*\n",
      "13\n",
      "14\n",
      "*333*555*\n",
      "16\n",
      "17\n",
      "*333*\n",
      "19\n",
      "*555*\n",
      "*333*\n",
      "22\n",
      "23\n",
      "*333*\n",
      "*555*\n",
      "26\n",
      "*333*\n",
      "28\n",
      "29\n",
      "*333*555*\n",
      "31\n",
      "32\n",
      "*333*\n",
      "34\n",
      "*555*\n",
      "*333*\n",
      "37\n",
      "38\n",
      "*333*\n",
      "*555*\n",
      "41\n",
      "*333*\n",
      "43\n",
      "44\n",
      "*333*555*\n",
      "46\n",
      "47\n",
      "*333*\n",
      "49\n",
      "*555*\n"
     ]
    }
   ],
   "source": [
    "for i in range(1,51):\n",
    "    \n",
    "    if i%3==0 and i%5!=0:\n",
    "        print(\"*333*\")\n",
    "    elif i%5==0 and i%3!=0:\n",
    "        print(\"*555*\")\n",
    "    elif i%3==0 and i%5==0:\n",
    "        print(\"*333*555*\")\n",
    "    else:    \n",
    "        print(i)"
   ]
  },
  {
   "cell_type": "markdown",
   "metadata": {},
   "source": [
    "    8.7. Я уверен, что вы уже вполне созрели до олимпийского уровня!\n",
    "    Вот разминочная задачка с одной из олимпиад по программированию для школьников.\n",
    "\n",
    "    Винни-Пух готовится к зиме и в течении N дней решил не лакомиться медом, а относить полный горшочек объемом X горстей, и перекладывать мёд в бочку. В первый день он донёс горшочек полным, но начиная со следующего дня он больше не смог бороться с искушением и начал выедать из горшочка Y горстей. Причём на каждый следующий день он выедал на Y горстей больше, чем в предыдущий день.\n",
    "\n",
    "    На входе программы три числа: N дней, X -- объём горшочка, Y -- выедаемые горсти. Посчитайте, сколько всего мёда за N дней Винни-Пух накопит в бочке, а также определите день, начиная с которого горшочек будет пустым."
   ]
  },
  {
   "cell_type": "code",
   "execution_count": null,
   "metadata": {},
   "outputs": [],
   "source": [
    "N=int(input(\"Enter days \"))\n",
    "V=int(input(\"Enter Value \"))\n",
    "Y=int(input(\"Enter every day decrement grab of value honey \"))\n",
    "\n",
    "day_off=0\n",
    "for i in range(N):\n",
    "    sum+=V-Y\n",
    "    Y+=Y\n",
    "    #print(Y)\n",
    "    if V>=Y:\n",
    "        day_off=i\n",
    "\n",
    "print(str(sum)+\" volume of honey collected in \"+ str(N) +\" days\")\n",
    "print(str(\" day_zero \")+str(day_off))"
   ]
  },
  {
   "cell_type": "markdown",
   "metadata": {},
   "source": [
    "    8.8. Вася начинающий хакер. Он планирует взломать кэш Windows на компьютере приятеля, чтобы вытащить оттуда его пароль ВКонтакте, но пока не может разобраться, какие числа в кэше служебные.\n",
    "    Служебными условно будем считать бинарные числа, которые представляют собой степень двойки -- 1,2,4,8,16,32,... \n",
    "    Помогите Васе определить, будет ли некоторое целое положительное число, вводимое в программу, бинарным."
   ]
  },
  {
   "cell_type": "code",
   "execution_count": null,
   "metadata": {
    "collapsed": true
   },
   "outputs": [],
   "source": [
    "num= int(input())\n",
    "\n",
    "for i in range(num):\n",
    "    if num/2!=0:\n",
    "        # кнутится в голове как сделать извлечение корня, но не могу сформулировать и проверку, если при делении на 2 в остатки получаем ноль и тогда прекратить извлекать корень"
   ]
  },
  {
   "cell_type": "markdown",
   "metadata": {},
   "source": [
    "    8.9. Оксана вычитала в астрологическом журнале очередной способ гадания любит/не любит: нумерологический.\n",
    "    Надо проверить время (часы, 0-24), на которое парень назначил ей свидание, на чётность. Если результат будет нечётным, значит, не любит!\n",
    "    Алгоритм проверки такой: надо просуммировать все натуральные делители числа, исключив 1 и само число.\n",
    "\n",
    "    Например, Олег назначил Оксане свидание в 6 утра. 6 делится нацело на 2 и на 3, 2+3=5, нечётно -- не любит!"
   ]
  },
  {
   "cell_type": "code",
   "execution_count": 16,
   "metadata": {},
   "outputs": [
    {
     "name": "stdout",
     "output_type": "stream",
     "text": [
      "6\n",
      "2\n",
      "sum is =2\n",
      "3\n",
      "sum is =5\n",
      "sum is =5\n",
      "sum is =5\n",
      "sum is =5\n"
     ]
    }
   ],
   "source": [
    "hours=int(input())\n",
    "\n",
    "sum=0\n",
    "for i in range(2,hours+1):\n",
    "    if hours%i==0 and i!=1 and i!=hours:\n",
    "        sum+=i\n",
    "        print(i)\n",
    "    \n",
    "    print(\"sum is =\"+ str(sum))"
   ]
  },
  {
   "cell_type": "markdown",
   "metadata": {},
   "source": [
    "    8.10. Оксана поливает на подоконнике герань, фиалки и кактус. Каждый день она меняет местами правый и центральный горшки, чтобы они равномернее получали солнечные лучи. А Олег вечером переставляет центральный и левый горшочки.\n",
    "\n",
    "    Напишите программу, которая выведет порядок цветков на подоконнике через N дней."
   ]
  },
  {
   "cell_type": "code",
   "execution_count": 9,
   "metadata": {},
   "outputs": [
    {
     "name": "stdout",
     "output_type": "stream",
     "text": [
      "4\n",
      "ФКГ\n"
     ]
    }
   ],
   "source": [
    "N=int(input())\n",
    "\n",
    "#print(\"ГФК\")\n",
    "if N%3==0 and N%2!=0:\n",
    "    print(\"ГФК\")\n",
    "    \n",
    "elif N%2==0 and N%3!=0:\n",
    "    print(\"ФКГ\")\n",
    "else:\n",
    "    print(\"КГФ\")\n",
    "    \n",
    "# доделать"
   ]
  },
  {
   "cell_type": "markdown",
   "metadata": {},
   "source": [
    "    8.11. Вечная классика программирования -- факториал (в математике записывается как !).\n",
    "\n",
    "    Факториал -- это для числа N произведение всех чисел от 1 до N.\n",
    "\n",
    "    Например, \n",
    "    5! = 1*2*3*4*5 = 120\n",
    "\n",
    "    Напишите программу, вычисляющую факториал числа."
   ]
  },
  {
   "cell_type": "code",
   "execution_count": 17,
   "metadata": {},
   "outputs": [
    {
     "name": "stdout",
     "output_type": "stream",
     "text": [
      "Enter number5\n",
      "120\n"
     ]
    }
   ],
   "source": [
    "num=int(input(\"Enter number\"))\n",
    "\n",
    "factorial=1\n",
    "for i in range(1,num+1):\n",
    "    factorial*=i\n",
    "    \n",
    "print(factorial)"
   ]
  },
  {
   "cell_type": "code",
   "execution_count": null,
   "metadata": {
    "collapsed": true
   },
   "outputs": [],
   "source": []
  }
 ],
 "metadata": {
  "kernelspec": {
   "display_name": "Python 3",
   "language": "python",
   "name": "python3"
  },
  "language_info": {
   "codemirror_mode": {
    "name": "ipython",
    "version": 3
   },
   "file_extension": ".py",
   "mimetype": "text/x-python",
   "name": "python",
   "nbconvert_exporter": "python",
   "pygments_lexer": "ipython3",
   "version": "3.6.1"
  }
 },
 "nbformat": 4,
 "nbformat_minor": 2
}
