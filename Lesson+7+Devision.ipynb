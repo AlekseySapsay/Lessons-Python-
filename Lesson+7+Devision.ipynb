{
 "cells": [
  {
   "attachments": {},
   "cell_type": "raw",
   "metadata": {},
   "source": [
    "x + y\tСложение\n",
    "x * y\tУмножение\n",
    "x / y\tДеление\n",
    "x // y\tПолучение целой части от деления\n",
    "x % y\tОстаток от деления"
   ]
  },
  {
   "cell_type": "markdown",
   "metadata": {},
   "source": [
    "7.1. В вашем отделе работают три программиста -- джун, миддл и сеньор. При этом не обязательно зарплата сеньора самая высокая. Введите в программу три числа (зарплаты) и определите, у кого она самая высокая, у кого самая низкая, и во сколько раз самая большая отличается от самой маленькой."
   ]
  },
  {
   "cell_type": "code",
   "execution_count": 27,
   "metadata": {},
   "outputs": [
    {
     "name": "stdout",
     "output_type": "stream",
     "text": [
      " Enter junior salary 6\n",
      " Enter middle salary 4\n",
      " Enter senior slary 2\n",
      " Maximum salary is 6 for junior\n",
      " Minimum salary is 2 for senior\n",
      "Salary for junior is greater than the salary for position senior at 3.0 times\n"
     ]
    }
   ],
   "source": [
    "junior=int(input(\" Enter junior salary \"))\n",
    "middle=int(input(\" Enter middle salary \"))\n",
    "senior=int(input(\" Enter senior slary \"))\n",
    "\n",
    "\n",
    "# select position of employee\n",
    "position={0:\"junior\",1:\"middle\",2:\"senior\"}\n",
    "number_in_position_max=0\n",
    "number_in_position_min=0\n",
    "\n",
    "# exeption\n",
    "if junior==middle or junior==senior or middle==senior:\n",
    "    print(\"Error! Salary is eqvivalent\")\n",
    "    print(\"Try other numbers\")\n",
    "    \n",
    "# max number selection\n",
    "else:\n",
    "    max=junior\n",
    "if max<middle:\n",
    "    max=middle\n",
    "    number_in_position_max+=1\n",
    "if max<senior:\n",
    "    max=senior\n",
    "    number_in_position_max+=1\n",
    "print(\" Maximum salary is \" + str(max) +\" for \"+ position[number_in_position_max])\n",
    "\n",
    "# min number selection\n",
    "\n",
    "min=junior\n",
    "if min>middle:\n",
    "    min=middle\n",
    "    number_in_position_min+=1\n",
    "if min>senior:\n",
    "    min=senior\n",
    "    number_in_position_min+=1\n",
    "print(\" Minimum salary is \"+ str(min) + \" for \"+ position[number_in_position_min])\n",
    "\n",
    "# devision salary\n",
    "\n",
    "greater_then=max/min\n",
    "\n",
    "print(\"Salary for \"+ position[number_in_position_max] +\" is greater than the salary for position \"+ position[number_in_position_min]+\" at \"+ str(greater_then) +\" times\")\n"
   ]
  },
  {
   "cell_type": "code",
   "execution_count": null,
   "metadata": {
    "collapsed": true
   },
   "outputs": [],
   "source": []
  }
 ],
 "metadata": {
  "kernelspec": {
   "display_name": "Python 3",
   "language": "python",
   "name": "python3"
  },
  "language_info": {
   "codemirror_mode": {
    "name": "ipython",
    "version": 3
   },
   "file_extension": ".py",
   "mimetype": "text/x-python",
   "name": "python",
   "nbconvert_exporter": "python",
   "pygments_lexer": "ipython3",
   "version": "3.6.1"
  }
 },
 "nbformat": 4,
 "nbformat_minor": 2
}
