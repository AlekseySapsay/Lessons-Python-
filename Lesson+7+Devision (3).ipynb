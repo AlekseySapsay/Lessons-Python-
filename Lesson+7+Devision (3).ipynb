{
 "cells": [
  {
   "attachments": {},
   "cell_type": "markdown",
   "metadata": {},
   "source": [
    "x + y\tСложение\n",
    "x * y\tУмножение\n",
    "x / y\tДеление\n",
    "x // y\tПолучение целой части от деления\n",
    "x % y\tОстаток от деления"
   ]
  },
  {
   "cell_type": "markdown",
   "metadata": {},
   "source": [
    "    7.1. В вашем отделе работают три программиста -- джун, миддл и сеньор. При этом не обязательно зарплата сеньора самая высокая. Введите в программу три числа (зарплаты) и определите, у кого она самая высокая, у кого самая низкая, и во сколько раз самая большая отличается от самой маленькой."
   ]
  },
  {
   "cell_type": "code",
   "execution_count": 27,
   "metadata": {},
   "outputs": [
    {
     "name": "stdout",
     "output_type": "stream",
     "text": [
      " Enter junior salary 6\n",
      " Enter middle salary 4\n",
      " Enter senior slary 2\n",
      " Maximum salary is 6 for junior\n",
      " Minimum salary is 2 for senior\n",
      "Salary for junior is greater than the salary for position senior at 3.0 times\n"
     ]
    }
   ],
   "source": [
    "junior=int(input(\" Enter junior salary \"))\n",
    "middle=int(input(\" Enter middle salary \"))\n",
    "senior=int(input(\" Enter senior slary \"))\n",
    "\n",
    "\n",
    "# select position of employee\n",
    "position={0:\"junior\",1:\"middle\",2:\"senior\"}\n",
    "number_in_position_max=0\n",
    "number_in_position_min=0\n",
    "\n",
    "# exeption\n",
    "if junior==middle or junior==senior or middle==senior:\n",
    "    print(\"Error! Salary is eqvivalent\")\n",
    "    print(\"Try other numbers\")\n",
    "    \n",
    "# max number selection\n",
    "else:\n",
    "    max=junior\n",
    "if max<middle:\n",
    "    max=middle\n",
    "    number_in_position_max+=1\n",
    "if max<senior:\n",
    "    max=senior\n",
    "    number_in_position_max+=1\n",
    "print(\" Maximum salary is \" + str(max) +\" for \"+ position[number_in_position_max])\n",
    "\n",
    "# min number selection\n",
    "\n",
    "min=junior\n",
    "if min>middle:\n",
    "    min=middle\n",
    "    number_in_position_min+=1\n",
    "if min>senior:\n",
    "    min=senior\n",
    "    number_in_position_min+=1\n",
    "print(\" Minimum salary is \"+ str(min) + \" for \"+ position[number_in_position_min])\n",
    "\n",
    "# devision salary\n",
    "\n",
    "greater_then=max/min\n",
    "\n",
    "print(\"Salary for \"+ position[number_in_position_max] +\" is greater than the salary for position \"+ position[number_in_position_min]+\" at \"+ str(greater_then) +\" times\")\n"
   ]
  },
  {
   "cell_type": "markdown",
   "metadata": {},
   "source": [
    "    7.2. Ваш фрегат электронно-технического дозора в ходе разведки плутониевых залежей в галактике Tama обнаружил вражеское транспортное судно и включил скрамблер, чтобы заблокировать возможность его побега. Но для этого вам придётся проявить максимум мастерства, чтобы удерживать скорость противника в очень узком диапазоне.\n",
    "    Введите два вещественных числа и проверьте, совпадают ли они с точностью до третьего знака после запятой включительно."
   ]
  },
  {
   "cell_type": "markdown",
   "metadata": {},
   "source": [
    "Нет идей как подступиться к решению. Кроме побитового сравнения чисел, которое я делать не умею.Поэтому пока пропущу этоу задачу"
   ]
  },
  {
   "cell_type": "markdown",
   "metadata": {},
   "source": [
    "    7.4. Введите целое число и напечатайте, чётное ли оно."
   ]
  },
  {
   "cell_type": "code",
   "execution_count": 33,
   "metadata": {},
   "outputs": [
    {
     "name": "stdout",
     "output_type": "stream",
     "text": [
      " Enter number 10\n",
      " The number 10 is even\n"
     ]
    }
   ],
   "source": [
    "a=int(input(\" Enter number \"))\n",
    "if a%2==0:\n",
    "    print(\" The number \"+str(a)+ \" is even\")\n",
    "else:\n",
    "    print(\" The number is not \"+str(a)+ \" even\")"
   ]
  },
  {
   "cell_type": "markdown",
   "metadata": {},
   "source": [
    "    7.3. Введите в программу свой год рождения, и напишите код, который определит, високосный ли это год."
   ]
  },
  {
   "cell_type": "code",
   "execution_count": 70,
   "metadata": {},
   "outputs": [
    {
     "name": "stdout",
     "output_type": "stream",
     "text": [
      " Enter age of your birth 1989\n",
      "The age 1989 is not leap year\n"
     ]
    }
   ],
   "source": [
    "age=int(input(\" Enter age of your birth \"))\n",
    "\n",
    "if age%400==0 or (age%4==0 and age%100!=0):\n",
    "    print(\"The age \"+ str(age) +\" is leap year\")\n",
    "else:\n",
    "    print(\"The age \"+ str(age) +\" is not leap year\")\n",
    "        "
   ]
  },
  {
   "cell_type": "markdown",
   "metadata": {},
   "source": [
    "    7.5. Три бандита, Джек, Джон и Джун, никак не могут разобраться с награбленным. Каждый из них утащил несколько ящиков с золотом, и теперь они ругаются, кому же было тяжелее всего.\n",
    "    Введите три числа и напечатайте \"all equals\" если все числа равны, \"all different\" если все числа различны, и \"equal or different\" в противном случае."
   ]
  },
  {
   "cell_type": "code",
   "execution_count": 108,
   "metadata": {},
   "outputs": [
    {
     "name": "stdout",
     "output_type": "stream",
     "text": [
      " Enter mass in kg for 1 grabber 1\n",
      " Enter mass in kg for 2 grabber 2\n",
      " Enter mass in kg for 3 grabber 3\n",
      " all different \n"
     ]
    }
   ],
   "source": [
    "grabber1=int(input(\" Enter mass in kg for 1 grabber \"))\n",
    "grabber2=int(input(\" Enter mass in kg for 2 grabber \"))\n",
    "grabber3=int(input(\" Enter mass in kg for 3 grabber \"))\n",
    "\n",
    "answer1=grabber1%grabber2\n",
    "answer2=grabber1%grabber3\n",
    "\n",
    "trigger=0\n",
    "\n",
    "if answer1==0 and answer2==0:\n",
    "    print(\" all equals \")\n",
    "    trigger+=1\n",
    "if (answer1 or answer2)!=0:\n",
    "    print(\" all different \")\n",
    "    trigger+=1\n",
    "if trigger==0:\n",
    "    print(\" equal or different \")\n"
   ]
  },
  {
   "cell_type": "markdown",
   "metadata": {},
   "source": [
    "    другое решение для задачи:"
   ]
  },
  {
   "cell_type": "code",
   "execution_count": 85,
   "metadata": {},
   "outputs": [
    {
     "name": "stdout",
     "output_type": "stream",
     "text": [
      " Enter mass in kg for 1 grabber 1\n",
      " Enter mass in kg for 2 grabber 2\n",
      " Enter mass in kg for 3 grabber 2\n",
      "equal or different\n"
     ]
    }
   ],
   "source": [
    "grabber1=int(input(\" Enter mass in kg for 1 grabber \"))\n",
    "grabber2=int(input(\" Enter mass in kg for 2 grabber \"))\n",
    "grabber3=int(input(\" Enter mass in kg for 3 grabber \"))\n",
    "\n",
    "trigger=0\n",
    "if grabber1==grabber2 and grabber1==grabber3:\n",
    "    print(\" all equals \")\n",
    "    trigger+=1\n",
    "if grabber1!=grabber2 and grabber1!=grabber3 and grabber2!=grabber3:\n",
    "    print(\"all different\")\n",
    "    trigger+=1\n",
    "if trigger==0 :\n",
    "    print( \"equal or different\" )\n",
    "    #print(trigger)\n"
   ]
  },
  {
   "cell_type": "markdown",
   "metadata": {},
   "source": [
    "    После глобальной блокировки интернета стало невозможным быстро нагуглить, сколько в каком месяце дней, а многие даже стали путать весну и осень.\n",
    "    Напишите программу, которая при вводе номера месяца 1..12 выводит количество дней в нём, а также соответствующий сезон года (один из четырёх)."
   ]
  },
  {
   "cell_type": "code",
   "execution_count": null,
   "metadata": {
    "collapsed": true
   },
   "outputs": [],
   "source": [
    "month=int(input(\" Enter number of the month \"))\n",
    "\n"
   ]
  }
 ],
 "metadata": {
  "kernelspec": {
   "display_name": "Python 3",
   "language": "python",
   "name": "python3"
  },
  "language_info": {
   "codemirror_mode": {
    "name": "ipython",
    "version": 3
   },
   "file_extension": ".py",
   "mimetype": "text/x-python",
   "name": "python",
   "nbconvert_exporter": "python",
   "pygments_lexer": "ipython3",
   "version": "3.6.1"
  }
 },
 "nbformat": 4,
 "nbformat_minor": 2
}
