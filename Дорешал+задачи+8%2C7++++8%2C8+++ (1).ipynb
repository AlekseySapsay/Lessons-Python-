{
 "cells": [
  {
   "cell_type": "markdown",
   "metadata": {},
   "source": [
    "8.7. Я уверен, что вы уже вполне созрели до олимпийского уровня!\n",
    "Вот разминочная задачка с одной из олимпиад по программированию для школьников.\n",
    "\n",
    "Винни-Пух готовится к зиме и в течении N дней решил не лакомиться медом, а относить полный горшочек объемом X горстей, и перекладывать мёд в бочку. В первый день он донёс горшочек полным, но начиная со следующего дня он больше не смог бороться с искушением и начал выедать из горшочка Y горстей. Причём на каждый следующий день он выедал на Y горстей больше, чем в предыдущий день.\n",
    "\n",
    "На входе программы три числа: N дней, X -- объём горшочка, Y -- выедаемые горсти. Посчитайте, сколько всего мёда за N дней Винни-Пух накопит в бочке, а также определите день, начиная с которого горшочек будет пустым."
   ]
  },
  {
   "cell_type": "code",
   "execution_count": 15,
   "metadata": {},
   "outputs": [
    {
     "name": "stdout",
     "output_type": "stream",
     "text": [
      "Enter days 10\n",
      "Enter Value 3\n",
      "Enter every day decrement grab of value honey 1\n",
      " \n",
      " Stop eating every day honey! The potty is empty in day: 4 ! \n",
      "\n",
      "!!!!!!!!!! Today is start of World Crisis Honey, in day:7 !!!!!!!!!! \n",
      "!!!!!!!!!! Today is start of World Crisis Honey, in day:8 !!!!!!!!!! \n",
      "!!!!!!!!!! Today is start of World Crisis Honey, in day:9 !!!!!!!!!! \n",
      "!!!!!!!!!! Today is start of World Crisis Honey, in day:10 !!!!!!!!!! \n",
      "\n",
      " Economic of honey is wasted: \n",
      " Total losses honey in boonker are  :-15 for day 10\n"
     ]
    }
   ],
   "source": [
    "N=int(input(\"Enter days \"))\n",
    "V=int(input(\"Enter Value \"))\n",
    "Y=int(input(\"Enter every day decrement grab of value honey \"))\n",
    "\n",
    "EveryDayLoss=0\n",
    "SumHoneInBoonker=0\n",
    "TotalSumWithLosses=0\n",
    "\n",
    "print(\" \")\n",
    "\n",
    "for i in range(1,N+1):\n",
    "    SumHoneInBoonker+=V\n",
    "    \n",
    "    if i==1:\n",
    "        EveryDayLoss+=0\n",
    "        DailyHoney=V\n",
    "    else:\n",
    "        EveryDayLoss+=Y\n",
    "        DailyHoney=V-EveryDayLoss\n",
    "    TotalSumWithLosses+=DailyHoney\n",
    "    \n",
    "    if EveryDayLoss==V:\n",
    "        print(\" Stop eating every day honey! The potty is empty in day: \" +str(i)+\" ! \" )\n",
    "        print(\"\")\n",
    "    elif TotalSumWithLosses<=0:\n",
    "        print(\"!!!!!!!!!! Today is start of World Crisis Honey, in day:\"+str(i)+\" !!!!!!!!!! \")\n",
    "        if i==N:\n",
    "            print(\"\")\n",
    "            print(\" Economic of honey is wasted: \")\n",
    "            print(\" Total losses honey in boonker are  :\"+ str(TotalSumWithLosses)+ \" for day \"+str(i))\n",
    "        \n",
    "    #print(\" day :\"+str(i))\n",
    "    #print(\" daily houney :\"+str(DailyHoney))\n",
    "    #print(\"totall loss per day :\"+str(EveryDayLoss)) \n",
    "    #print(\"totall Honey in boonker with loss :\"+str(TotalSumWithLosses))\n",
    "    #print(\" totall Honey withou loss :\"+str(SumHoneInBoonker))\n",
    "\n",
    "    "
   ]
  },
  {
   "cell_type": "markdown",
   "metadata": {},
   "source": [
    "8.8. Вася начинающий хакер. Он планирует взломать кэш Windows на компьютере приятеля, чтобы вытащить оттуда его пароль ВКонтакте, но пока не может разобраться, какие числа в кэше служебные.\n",
    "Служебными условно будем считать бинарные числа, которые представляют собой степень двойки -- 1,2,4,8,16,32,... \n",
    "Помогите Васе определить, будет ли некоторое целое положительное число, вводимое в программу, бинарным."
   ]
  },
  {
   "cell_type": "code",
   "execution_count": 16,
   "metadata": {},
   "outputs": [
    {
     "name": "stdout",
     "output_type": "stream",
     "text": [
      "512\n",
      " number 512 is power of 2\n"
     ]
    }
   ],
   "source": [
    "num= int(input())\n",
    "power=1\n",
    "k=0\n",
    "for i in range(num):\n",
    "    power*=2\n",
    "    if num==power:\n",
    "        k=k+1\n",
    "        print(\" number \" +str(num)+ \" is power of 2\")\n",
    "\n",
    "        \n",
    "if k!=1:    \n",
    "    print(\" number \" +str(num)+ \" is not power of 2\")"
   ]
  },
  {
   "cell_type": "code",
   "execution_count": null,
   "metadata": {
    "collapsed": true
   },
   "outputs": [],
   "source": [
    "#  второе решение задачи 8,8"
   ]
  },
  {
   "cell_type": "code",
   "execution_count": 17,
   "metadata": {},
   "outputs": [
    {
     "name": "stdout",
     "output_type": "stream",
     "text": [
      " Enter number 256\n",
      "<class 'int'>\n",
      " number 256 is power of 2\n"
     ]
    }
   ],
   "source": [
    "# не пойму почему не входит в цикл\n",
    "\n",
    "num= int(input(\" Enter number \"))\n",
    "power=1\n",
    "k=0\n",
    "\n",
    "answer=(num/2)*2\n",
    "print(type(num))\n",
    "\n",
    "while (type(answer) is int) and (type(num) is int):\n",
    "    \n",
    "    print(type(answer))\n",
    "    \n",
    "    answer=answer/2\n",
    "    \n",
    "    print(\"0000000000000000000000000000\")\n",
    "    if type(answer) is float:\n",
    "        k=k+1\n",
    "        print(\" number \" +str(num)+ \" is not power of 2\")\n",
    "        break\n",
    "\n",
    "        \n",
    "if k!=1:    \n",
    "    print(\" number \" +str(num)+ \" is power of 2\")"
   ]
  },
  {
   "cell_type": "code",
   "execution_count": null,
   "metadata": {
    "collapsed": true
   },
   "outputs": [],
   "source": [
    "# третье решение 8,8 задачи"
   ]
  },
  {
   "cell_type": "code",
   "execution_count": null,
   "metadata": {
    "collapsed": true
   },
   "outputs": [],
   "source": [
    "# число назбить на цифры и посмотреть, является ли поседняя с права цифра\n",
    "2,4,6,8 если нет- то сразу отметаем и говорим, что не явяется степенью двойки\n"
   ]
  },
  {
   "cell_type": "code",
   "execution_count": null,
   "metadata": {
    "collapsed": true
   },
   "outputs": [],
   "source": [
    "# четвертое решение 8,8 задачи через логарифм"
   ]
  },
  {
   "cell_type": "code",
   "execution_count": 18,
   "metadata": {},
   "outputs": [
    {
     "name": "stdout",
     "output_type": "stream",
     "text": [
      " Enter number 16\n",
      "True\n"
     ]
    }
   ],
   "source": [
    "num= int(input(\" Enter number \"))\n",
    "from math import log\n",
    "\n",
    "Lognum = log(num, 2)\n",
    "if (Lognum == int(Lognum)):\n",
    "  print (\"True\")\n",
    "else:\n",
    "  print (\"False\")"
   ]
  },
  {
   "cell_type": "code",
   "execution_count": null,
   "metadata": {
    "collapsed": true
   },
   "outputs": [],
   "source": [
    "# пятое решение 8,8 задачи через равенство индексов цикла, при делении на 2 и умножении на 2"
   ]
  },
  {
   "cell_type": "code",
   "execution_count": 12,
   "metadata": {},
   "outputs": [
    {
     "name": "stdout",
     "output_type": "stream",
     "text": [
      " Enter number 15\n"
     ]
    }
   ],
   "source": [
    "# на бумаге выглядело очень хорошо, а сейчас не могу сообразить как проводить сравнение.\n",
    "import math\n",
    "\n",
    "num= int(input(\" Enter number \"))\n",
    "devision=num\n",
    "k=1\n",
    "j=0\n",
    "\n",
    "power=1\n",
    "\n",
    "\n",
    "for i in range(num):\n",
    "    power*=2\n",
    "    devision/=2\n",
    "    k+=1\n",
    "    j-=1\n",
    "    \n",
    "    \n",
    "    if k==math.fabs(j) and power<num and devision>2:\n",
    "        print(print(\" number \" +str(num)+ \" is power of 2\"))\n",
    "        break\n",
    "    \n",
    "    "
   ]
  }
 ],
 "metadata": {
  "kernelspec": {
   "display_name": "Python 3",
   "language": "python",
   "name": "python3"
  },
  "language_info": {
   "codemirror_mode": {
    "name": "ipython",
    "version": 3
   },
   "file_extension": ".py",
   "mimetype": "text/x-python",
   "name": "python",
   "nbconvert_exporter": "python",
   "pygments_lexer": "ipython3",
   "version": "3.6.1"
  }
 },
 "nbformat": 4,
 "nbformat_minor": 2
}
