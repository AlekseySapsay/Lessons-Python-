{
 "cells": [
  {
   "cell_type": "markdown",
   "metadata": {},
   "source": [
    "13.3.2. Введите с клавиатуры две строки, сравните их и выведите либо индекс первого символа, с которого начинается неравенство (с учётом того, что длины строк могут различаться), либо EQUALS."
   ]
  },
  {
   "cell_type": "code",
   "execution_count": 5,
   "metadata": {},
   "outputs": [
    {
     "name": "stdout",
     "output_type": "stream",
     "text": [
      "123456\n",
      "12345678\n",
      "6\n"
     ]
    }
   ],
   "source": [
    "s1,s2=[input() for i in range(2)]\n",
    "counter=-1\n",
    "\n",
    "if len(s1)>len(s2):\n",
    "    min_length=len(s2)\n",
    "else:\n",
    "    min_length=len(s1)\n",
    "    \n",
    "for i in range(min_length):\n",
    "    if s1[i]==s2[i]:\n",
    "        counter+=1\n",
    "    else:\n",
    "        break\n",
    "counter+=1\n",
    "\n",
    "if s1[counter-1]==s2[counter-1] and len(s1)==len(s2):\n",
    "    print(\"EQUALS\")\n",
    "elif s1[counter-1]==s2[counter-1]:\n",
    "    print(counter)\n"
   ]
  },
  {
   "cell_type": "markdown",
   "metadata": {},
   "source": [
    "13.3.5. Введите с клавиатуры две строки, и создайте третью строку, которая будет равна сумме двух этих строк (двум строкам, сцепленным друг за другом). Не используйте стандартную операцию сцепления строк \"+\"."
   ]
  },
  {
   "cell_type": "code",
   "execution_count": 101,
   "metadata": {},
   "outputs": [
    {
     "name": "stdout",
     "output_type": "stream",
     "text": [
      "1332\n",
      "46\n",
      "133246\n"
     ]
    }
   ],
   "source": [
    "s1,s2=[input() for i in range(2)]\n",
    "\n",
    "s3=[]\n",
    "\n",
    "s3.append(s1)\n",
    "s3.append(s2)\n",
    "s3=\"\".join(s3)\n",
    "\n",
    "print(s3)"
   ]
  },
  {
   "cell_type": "markdown",
   "metadata": {},
   "source": [
    "13.3.6. Напишите программу, которая вводит с клавиатуры две строки, и проверяет, содержится ли в первой строке вторая строка."
   ]
  },
  {
   "cell_type": "code",
   "execution_count": 1,
   "metadata": {},
   "outputs": [
    {
     "name": "stdout",
     "output_type": "stream",
     "text": [
      "132465798\n",
      "87\n",
      "S1 is not include S2\n"
     ]
    }
   ],
   "source": [
    "# retry\n",
    "\n",
    "s1,s2=[input() for i in range(2)]\n",
    "\n",
    "s1=list(s1)\n",
    "s2=list(s2)\n",
    "s3=[]\n",
    "\n",
    "delta=len(s1)-len(s2)+1\n",
    "\n",
    "for i in range(delta):\n",
    "    s3=[]\n",
    "    for j in range(len(s2)):\n",
    "        s3.append(s1[j+i])\n",
    "        break\n",
    "if s3==s2:\n",
    "    print(\"S1 is include S2\")\n",
    "else:\n",
    "    print(\"S1 is not include S2\")"
   ]
  },
  {
   "cell_type": "markdown",
   "metadata": {},
   "source": [
    "13.3.7. Напишите программу, которая выделяет из строки подстроку -- начиная с заданной позиции и заданной длины, и формирует из неё отдельную строку."
   ]
  },
  {
   "cell_type": "code",
   "execution_count": 6,
   "metadata": {},
   "outputs": [
    {
     "name": "stdout",
     "output_type": "stream",
     "text": [
      "123456789\n",
      "3\n",
      "3\n",
      "['4', '5', '6']\n"
     ]
    }
   ],
   "source": [
    "s,start,length=[input() for i in range(3)]\n",
    "s1=[]\n",
    "\n",
    "for start in range(int(start),int(length)+int(start)):\n",
    "    s1.append(s[start])\n",
    "    \n",
    "print(s1)"
   ]
  },
  {
   "cell_type": "markdown",
   "metadata": {},
   "source": [
    "12.3.2. Напишите программу, которая проверяет, равны ли два трёхмерных массива. Сначала сравните их размеры, и если они совпадают, сравните массивы по значениям."
   ]
  },
  {
   "cell_type": "code",
   "execution_count": 22,
   "metadata": {},
   "outputs": [
    {
     "ename": "IndentationError",
     "evalue": "expected an indented block (<ipython-input-22-7265bd168ad6>, line 12)",
     "output_type": "error",
     "traceback": [
      "\u001b[1;36m  File \u001b[1;32m\"<ipython-input-22-7265bd168ad6>\"\u001b[1;36m, line \u001b[1;32m12\u001b[0m\n\u001b[1;33m    print(\"arrays are equivalent!\")\u001b[0m\n\u001b[1;37m                                   ^\u001b[0m\n\u001b[1;31mIndentationError\u001b[0m\u001b[1;31m:\u001b[0m expected an indented block\n"
     ]
    }
   ],
   "source": [
    "# то же решение, но с проверкой по к элементам, не работает. \n",
    "# И можно ли проверить длины массива а и в без циклов?\n",
    "\n",
    "a=[ [[1,2],[4,5]] , [[7,8],[0,9]] ]\n",
    "b=[ [[1,2],[4,5]] , [[7,8],[0,9,1]] ]\n",
    "   \n",
    "for i in range(len(a)):\n",
    "    for j in range(len(a[i])):\n",
    "        for k in range(len(a[j])):\n",
    "            if a[i][j][k]==b[i][j][k]:\n",
    "                \n",
    "print(\"arrays are equivalent!\")\n",
    "        \n",
    "print(\"arrays are not equivalent!\")"
   ]
  },
  {
   "cell_type": "code",
   "execution_count": null,
   "metadata": {
    "collapsed": true
   },
   "outputs": [],
   "source": [
    "# то же решение \n",
    "# не верное\n",
    "\n",
    "a=[ [[1,2],[4,5]] , [[7,8],[0,9,2]] ]\n",
    "b=[ [[1,2],[4,5]] , [[7,8],[0,9]] ]\n",
    "\n",
    "right1=0\n",
    "mistakes1=0\n",
    "\n",
    "right2=0\n",
    "mistakes2=0\n",
    "\n",
    "for i in range(len(a)):\n",
    "    for j in range(len(a[i])):\n",
    "        for k in range(len(a[j])):\n",
    "            mistakes1+=1\n",
    "            if a[i][j][k]==b[i][j][k]:\n",
    "                right1+=1\n",
    "                \n",
    "for i in range(len(b)):\n",
    "    for j in range(len(b[i])):\n",
    "        for k in range(len(b[j])):\n",
    "            mistakes2+=1\n",
    "            if a[i][j][k]==b[i][j][k]:\n",
    "                right2+=1\n",
    "\n",
    "if right1==mistakes2 and right2==mistakes2:\n",
    "    print(\"arrays are equivalent!\")\n",
    "else:        \n",
    "    print(\"arrays are not equivalent!\")"
   ]
  },
  {
   "cell_type": "code",
   "execution_count": null,
   "metadata": {
    "collapsed": true
   },
   "outputs": [],
   "source": []
  }
 ],
 "metadata": {
  "kernelspec": {
   "display_name": "Python 3",
   "language": "python",
   "name": "python3"
  },
  "language_info": {
   "codemirror_mode": {
    "name": "ipython",
    "version": 3
   },
   "file_extension": ".py",
   "mimetype": "text/x-python",
   "name": "python",
   "nbconvert_exporter": "python",
   "pygments_lexer": "ipython3",
   "version": "3.6.1"
  }
 },
 "nbformat": 4,
 "nbformat_minor": 2
}
