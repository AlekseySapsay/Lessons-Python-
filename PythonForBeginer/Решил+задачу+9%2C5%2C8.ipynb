{
 "cells": [
  {
   "cell_type": "code",
   "execution_count": 7,
   "metadata": {},
   "outputs": [
    {
     "name": "stdout",
     "output_type": "stream",
     "text": [
      "5\n",
      " Cost  is: 10000\n",
      " Cost 0 is: 99000\n",
      " Cost 1 is: 9000\n",
      " Cost 2 is: 9900\n",
      " Cost 3 is: 10001\n",
      "max cost is: 99000 min cost is:9000\n"
     ]
    }
   ],
   "source": [
    "# ввод N чисел ручками, сравнние, вывод макс и мин. \n",
    "\n",
    "\n",
    "number_numses=int(input())\n",
    "\n",
    "numA=int(input(\" Cost  is: \"))\n",
    "\n",
    "max=numA\n",
    "min=numA\n",
    "\n",
    "for i in range(0,number_numses-1):\n",
    "    numA=int(input(\" Cost \"+str(i)+\" is: \"))\n",
    "    \n",
    "    if numA>=max :\n",
    "        max=numA\n",
    "    if numA<=min:\n",
    "        min=numA\n",
    "\n",
    "print(\"max cost is: \"+str(max)+\" min cost is:\"+str(min))"
   ]
  },
  {
   "cell_type": "code",
   "execution_count": null,
   "metadata": {
    "collapsed": true
   },
   "outputs": [],
   "source": []
  }
 ],
 "metadata": {
  "kernelspec": {
   "display_name": "Python 3",
   "language": "python",
   "name": "python3"
  },
  "language_info": {
   "codemirror_mode": {
    "name": "ipython",
    "version": 3
   },
   "file_extension": ".py",
   "mimetype": "text/x-python",
   "name": "python",
   "nbconvert_exporter": "python",
   "pygments_lexer": "ipython3",
   "version": "3.6.1"
  }
 },
 "nbformat": 4,
 "nbformat_minor": 2
}
