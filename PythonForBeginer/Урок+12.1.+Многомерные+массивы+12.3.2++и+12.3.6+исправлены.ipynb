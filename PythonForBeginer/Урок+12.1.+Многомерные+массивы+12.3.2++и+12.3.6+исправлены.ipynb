{
 "cells": [
  {
   "cell_type": "markdown",
   "metadata": {},
   "source": [
    "12.3.2. Напишите программу, которая проверяет, равны ли два трёхмерных массива. Сначала сравните их размеры, и если они совпадают, сравните массивы по значениям."
   ]
  },
  {
   "cell_type": "code",
   "execution_count": 3,
   "metadata": {},
   "outputs": [
    {
     "name": "stdout",
     "output_type": "stream",
     "text": [
      "arrays are not equivalent!\n"
     ]
    }
   ],
   "source": [
    "a=[ [[1,2],[4,5]] , [[7,8],[0,9]] ]\n",
    "b=[ [[1,2],[4,5,1]] , [[7,8,1],[0,9,1]] ]\n",
    "\n",
    "elements=0\n",
    "\n",
    "if len(a)==len(b):\n",
    "    \n",
    "    for i in range(len(a)):\n",
    "        for j in range(len(a[i])):\n",
    "            for k in range(len(a[j])):\n",
    "                if a[i][j]==b[i][j]:\n",
    "                    elements+=1\n",
    "    if elements==(i+1)*(j+1)*(k+1):\n",
    "        print(\"arrays are equivalent!\")\n",
    "    if elements!=(i+1)*(j+1)*(k+1):\n",
    "        print(\"arrays are not equivalent!\")"
   ]
  },
  {
   "cell_type": "markdown",
   "metadata": {},
   "source": [
    "12.3.6. Напишите программу, которая симметрично отражает матрицу относительно её главной диагонали."
   ]
  },
  {
   "cell_type": "code",
   "execution_count": 9,
   "metadata": {},
   "outputs": [
    {
     "name": "stdout",
     "output_type": "stream",
     "text": [
      "[[1, 4], [2, 5], [3, 6]]\n"
     ]
    }
   ],
   "source": [
    "# пример из интернетов, \n",
    "a = [[1, 2, 3], [4, 5, 6]]\n",
    "b = [[x[i] for x in a] for i in range(len(a[0]))]\n",
    "print (b)\n"
   ]
  },
  {
   "cell_type": "code",
   "execution_count": 1,
   "metadata": {},
   "outputs": [
    {
     "name": "stdout",
     "output_type": "stream",
     "text": [
      "[[1, 4, 7, 10], [2, 5, 8, 11], [3, 6, 9, 12]]\n"
     ]
    }
   ],
   "source": [
    "array1=[[1,2,3],[4,5,6],[7,8,9],[10,11,12]]\n",
    "array2=[]\n",
    "for i in range(0, len(array1[0])):\n",
    "    array2.append([])\n",
    "    for j in range(0, len(array1)):\n",
    "        array2[i].append(array1[j][i])\n",
    "print(array2)"
   ]
  },
  {
   "cell_type": "code",
   "execution_count": 17,
   "metadata": {},
   "outputs": [
    {
     "name": "stdout",
     "output_type": "stream",
     "text": [
      "[[ 1  4  7 10]\n",
      " [ 2  5  8 11]\n",
      " [ 3  6  9 12]]\n"
     ]
    }
   ],
   "source": [
    "# решение с использованием модуля Numpy\n",
    "# pip inslall numpy\n",
    "\n",
    "import numpy as np\n",
    "a = np.array([[1,2,3],[4,5,6],[7,8,9],[10,11,12]])\n",
    "a = a.transpose()\n",
    "print(a)"
   ]
  },
  {
   "cell_type": "code",
   "execution_count": null,
   "metadata": {
    "collapsed": true
   },
   "outputs": [],
   "source": [
    "\n",
    "Задачки можете тут посмотреть:\n",
    "https://acmp.ru/index.asp?main=tasks\n",
    "там есть раздел \"двумерные массивы\", и дополнительно по сложности можно выбирать."
   ]
  }
 ],
 "metadata": {
  "kernelspec": {
   "display_name": "Python 3",
   "language": "python",
   "name": "python3"
  },
  "language_info": {
   "codemirror_mode": {
    "name": "ipython",
    "version": 3
   },
   "file_extension": ".py",
   "mimetype": "text/x-python",
   "name": "python",
   "nbconvert_exporter": "python",
   "pygments_lexer": "ipython3",
   "version": "3.6.1"
  }
 },
 "nbformat": 4,
 "nbformat_minor": 2
}
