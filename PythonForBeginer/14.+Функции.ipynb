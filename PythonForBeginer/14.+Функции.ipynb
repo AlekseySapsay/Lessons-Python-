{
 "cells": [
  {
   "cell_type": "markdown",
   "metadata": {},
   "source": [
    "14.1. Напишите функцию, которая получает на вход число и возвращает квадрат этого числа."
   ]
  },
  {
   "cell_type": "code",
   "execution_count": 5,
   "metadata": {},
   "outputs": [
    {
     "name": "stdout",
     "output_type": "stream",
     "text": [
      "10\n",
      "100\n"
     ]
    }
   ],
   "source": [
    "def PowerOfTwo(x):\n",
    "    result=x**2\n",
    "    return result\n",
    "\n",
    "answer=PowerOfTwo(int(input()))\n",
    "print(answer)"
   ]
  },
  {
   "cell_type": "markdown",
   "metadata": {},
   "source": [
    "14.2. Напишите функцию, которая получает на вход три целых числа и возвращает наименьшее из них."
   ]
  },
  {
   "cell_type": "code",
   "execution_count": 13,
   "metadata": {},
   "outputs": [
    {
     "name": "stdout",
     "output_type": "stream",
     "text": [
      "10\n",
      "20\n",
      "30\n",
      "10\n"
     ]
    }
   ],
   "source": [
    "def minimun(a,b,c):\n",
    "    if a<b and a<c:\n",
    "        min=a\n",
    "        return min\n",
    "    if b<a and b<c:\n",
    "        min=b\n",
    "        return min\n",
    "    else:\n",
    "        min=c\n",
    "        return min\n",
    "        \n",
    "a,b,c=[int(input()) for i in range(3)]\n",
    "result=minimun(a,b,c)\n",
    "\n",
    "print(result)"
   ]
  },
  {
   "cell_type": "markdown",
   "metadata": {},
   "source": [
    "14.3. Напишите функцию, которая подсчитывает количество слов в строке."
   ]
  },
  {
   "cell_type": "code",
   "execution_count": 17,
   "metadata": {},
   "outputs": [
    {
     "name": "stdout",
     "output_type": "stream",
     "text": [
      "The englishman in New York\n",
      "5\n"
     ]
    }
   ],
   "source": [
    "def SpaceCounter(s):\n",
    "    n = 0\n",
    "    for i in range(len(s)):\n",
    "        if s[i] == ' ':\n",
    "            n += 1\n",
    "    return n\n",
    "\n",
    "x = SpaceCounter(str(input())) + 1\n",
    "   \n",
    "print(x) "
   ]
  },
  {
   "cell_type": "markdown",
   "metadata": {},
   "source": [
    "14.4. Напишите функцию, которая получает на вход три строки, а возвращает наименьшее число слов в какой-то из них. Для этого задействуйте свои функции из предыдущих примеров."
   ]
  },
  {
   "cell_type": "code",
   "execution_count": null,
   "metadata": {
    "collapsed": true
   },
   "outputs": [],
   "source": []
  },
  {
   "cell_type": "markdown",
   "metadata": {},
   "source": [
    "14.5. Напишите функцию, которая получает на вход два параметра: массив целых и число, находит в массиве элемент, равный числу, и возвращает его индекс в массиве с помощью return. Если элемент в массиве не найден, программа должна вернуть -1."
   ]
  },
  {
   "cell_type": "code",
   "execution_count": 35,
   "metadata": {},
   "outputs": [
    {
     "ename": "IndentationError",
     "evalue": "expected an indented block (<ipython-input-35-9d963efd7670>, line 3)",
     "output_type": "error",
     "traceback": [
      "\u001b[1;36m  File \u001b[1;32m\"<ipython-input-35-9d963efd7670>\"\u001b[1;36m, line \u001b[1;32m3\u001b[0m\n\u001b[1;33m    rang=int(input())\u001b[0m\n\u001b[1;37m       ^\u001b[0m\n\u001b[1;31mIndentationError\u001b[0m\u001b[1;31m:\u001b[0m expected an indented block\n"
     ]
    }
   ],
   "source": [
    "def findElementInArray(A,num):\n",
    "\n",
    "rang=int(input())\n",
    "num=int(input())\n",
    "A=[int(input()) for i in range(rang)]\n",
    "\n",
    "answer=findElementInArray(A,num)\n",
    "print(answer)"
   ]
  },
  {
   "cell_type": "markdown",
   "metadata": {},
   "source": [
    "14.6. Напишите функцию, которая ничего не делает: ничего не получает на вход, и ничего не вычисляет."
   ]
  },
  {
   "cell_type": "code",
   "execution_count": 32,
   "metadata": {},
   "outputs": [
    {
     "ename": "IndentationError",
     "evalue": "expected an indented block (<ipython-input-32-30490627145a>, line 3)",
     "output_type": "error",
     "traceback": [
      "\u001b[1;36m  File \u001b[1;32m\"<ipython-input-32-30490627145a>\"\u001b[1;36m, line \u001b[1;32m3\u001b[0m\n\u001b[1;33m    lasyfuntin(int(input()))\u001b[0m\n\u001b[1;37m             ^\u001b[0m\n\u001b[1;31mIndentationError\u001b[0m\u001b[1;31m:\u001b[0m expected an indented block\n"
     ]
    }
   ],
   "source": [
    "def lasyfuntin(s):\n",
    "    \n",
    "lasyfuntin(int(input()))"
   ]
  },
  {
   "cell_type": "code",
   "execution_count": null,
   "metadata": {
    "collapsed": true
   },
   "outputs": [],
   "source": []
  }
 ],
 "metadata": {
  "kernelspec": {
   "display_name": "Python 3",
   "language": "python",
   "name": "python3"
  },
  "language_info": {
   "codemirror_mode": {
    "name": "ipython",
    "version": 3
   },
   "file_extension": ".py",
   "mimetype": "text/x-python",
   "name": "python",
   "nbconvert_exporter": "python",
   "pygments_lexer": "ipython3",
   "version": "3.6.6"
  }
 },
 "nbformat": 4,
 "nbformat_minor": 2
}
