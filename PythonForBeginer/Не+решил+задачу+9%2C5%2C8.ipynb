{
 "cells": [
  {
   "cell_type": "code",
   "execution_count": null,
   "metadata": {
    "collapsed": true
   },
   "outputs": [],
   "source": [
    "# ввод N чисел ручками, сравнние, вывод макс и мин. \n",
    "\n",
    "\n",
    "number_numses=int(input())\n",
    "\n",
    "numA=int(input(\" Cost  is: \"))\n",
    "numB=int(input(\" Cost  is: \"))\n",
    "numC=int(input(\" Cost  is: \"))\n",
    "\n",
    "max=0\n",
    "min=0\n",
    "\n",
    "for i in range(0,number_numses-3):\n",
    "    numA=int(input(\" Cost \"+str(i)+\" is: \"))\n",
    "    \n",
    "    if numA>=numB and numA>=numC:\n",
    "        max=numA\n",
    "    elif numB>=numA and numB>=numC:\n",
    "        max=numB\n",
    "    else:\n",
    "        max=numC\n",
    "       \n",
    "    if numA<=numB and numA<=numC:\n",
    "        min=numA\n",
    "    elif numB<=numA and numB<=numC:\n",
    "        min=numB\n",
    "    else:\n",
    "        min=numC\n",
    "        \n",
    "print(\"max cost is: \"+str(max)+\" min cost is:\"+str(min))"
   ]
  },
  {
   "cell_type": "code",
   "execution_count": null,
   "metadata": {
    "collapsed": true
   },
   "outputs": [],
   "source": []
  }
 ],
 "metadata": {
  "kernelspec": {
   "display_name": "Python 3",
   "language": "python",
   "name": "python3"
  },
  "language_info": {
   "codemirror_mode": {
    "name": "ipython",
    "version": 3
   },
   "file_extension": ".py",
   "mimetype": "text/x-python",
   "name": "python",
   "nbconvert_exporter": "python",
   "pygments_lexer": "ipython3",
   "version": "3.6.1"
  }
 },
 "nbformat": 4,
 "nbformat_minor": 2
}
