{
 "cells": [
  {
   "cell_type": "markdown",
   "metadata": {},
   "source": [
    "12.3.1. Напишите программу, которая с помощью вложенных циклов вводит с клавиатуры матрицу переменного размера (размер также вводится с клавиатуры)."
   ]
  },
  {
   "cell_type": "code",
   "execution_count": 1,
   "metadata": {},
   "outputs": [
    {
     "name": "stdout",
     "output_type": "stream",
     "text": [
      "3\n",
      "123\n",
      "456\n",
      "441\n",
      "[[123], [456], [441]]\n"
     ]
    }
   ],
   "source": [
    "N=int(input())\n",
    "array1=[]\n",
    "\n",
    "for i in range(N):\n",
    "    row=input().split()\n",
    "    for j in range(len(row)):\n",
    "        row[j]=int(row[j])\n",
    "        array1.append(row)\n",
    "print(array1)"
   ]
  },
  {
   "cell_type": "markdown",
   "metadata": {},
   "source": [
    "12.3.2. Напишите программу, которая проверяет, равны ли два трёхмерных массива. Сначала сравните их размеры, и если они совпадают, сравните массивы по значениям."
   ]
  },
  {
   "cell_type": "code",
   "execution_count": 10,
   "metadata": {},
   "outputs": [
    {
     "name": "stdout",
     "output_type": "stream",
     "text": [
      "arrays are equivalent!\n"
     ]
    }
   ],
   "source": [
    "a=[[1,2,3],[4,5,6],[7,8,9]]\n",
    "b=[[1,2,3],[4,5,6],[7,8,9]]\n",
    "\n",
    "elements=0\n",
    "\n",
    "if len(a)==len(b):\n",
    "    \n",
    "    for i in range(len(a)):\n",
    "        for j in range(len(a[i])):\n",
    "            if a[i][j]==b[i][j]:\n",
    "                elements+=1\n",
    "    if elements==(i+1)*(j+1):\n",
    "        print(\"arrays are equivalent!\")\n",
    "    if elements!=(i+1)*(j+1):\n",
    "        print(\"arrays are not equivalent!\")"
   ]
  },
  {
   "cell_type": "markdown",
   "metadata": {},
   "source": [
    "12.3.3. Напишите программу, которая складывает две матрицы одинакового размера и печатает результат в виде таблички."
   ]
  },
  {
   "cell_type": "code",
   "execution_count": 11,
   "metadata": {},
   "outputs": [
    {
     "name": "stdout",
     "output_type": "stream",
     "text": [
      "[[2, 4, 6], [8, 10, 12], [14, 16, 18]]\n"
     ]
    }
   ],
   "source": [
    "a=[[1,2,3],[4,5,6],[7,8,9]]\n",
    "b=[[1,2,3],[4,5,6],[7,8,9]]\n",
    "\n",
    "c=[[0,0,0],[0,0,0],[0,0,0]]\n",
    "\n",
    "for i in range(len(a)):\n",
    "    for j in range(len(a[i])):\n",
    "        c[i][j]=a[i][j]+b[i][j]\n",
    "        \n",
    "print(c)"
   ]
  },
  {
   "cell_type": "markdown",
   "metadata": {},
   "source": [
    "12.3.4. Напишите программу, которая рассчитывает сумму главной диагонали матрицы."
   ]
  },
  {
   "cell_type": "code",
   "execution_count": 12,
   "metadata": {},
   "outputs": [
    {
     "name": "stdout",
     "output_type": "stream",
     "text": [
      "15\n"
     ]
    }
   ],
   "source": [
    "array=[[1,2,3],[4,5,6],[7,8,9]]\n",
    "\n",
    "\n",
    "sumGeneralDiag=0\n",
    "\n",
    "for i in range(len(array)):\n",
    "    for j in range(len(array[i])):\n",
    "        if i==j:\n",
    "            sumGeneralDiag+=array[i][j]\n",
    "            \n",
    "print(sumGeneralDiag)"
   ]
  },
  {
   "cell_type": "markdown",
   "metadata": {},
   "source": [
    "12.3.5. Напишите программу, которая рассчитывает сумму элементов каждой строки и каждого столбца матрицы, затем складывает эти суммы по горизонтали и вертикали, и проверяет, что две итоговые суммы равны (проверка бухгалтерского баланса)."
   ]
  },
  {
   "cell_type": "code",
   "execution_count": 4,
   "metadata": {},
   "outputs": [
    {
     "name": "stdout",
     "output_type": "stream",
     "text": [
      "45\n",
      "45\n",
      "90\n"
     ]
    }
   ],
   "source": [
    "array1=[[1,2,3],[4,5,6],[7,8,9]]\n",
    "\n",
    "sumRow=0\n",
    "sumColumn=0\n",
    "sumTotal=0\n",
    "\n",
    "for k in range(len(array1)):\n",
    "    for c in range(len(array1[k])):\n",
    "        sumRow+=array1[k][c]\n",
    "print(sumRow)\n",
    "\n",
    "for c in range(len(array1)):\n",
    "    for k in range(len(array1[c])):\n",
    "        sumColumn+=array1[c][k]\n",
    "print(sumColumn)\n",
    "\n",
    "sumTotal=sumRow+sumColumn\n",
    "print(sumTotal)"
   ]
  },
  {
   "cell_type": "code",
   "execution_count": 9,
   "metadata": {},
   "outputs": [
    {
     "name": "stdout",
     "output_type": "stream",
     "text": [
      "45\n",
      "45\n",
      "Sums are equivalent!!\n"
     ]
    }
   ],
   "source": [
    "#12.3.5. второе решение. Задание дополнительных 2х массивов\n",
    "array1=[[1,2,3],[4,5,6],[7,8,9]]\n",
    "\n",
    "sumRows=0\n",
    "sumColuns=0\n",
    "arrayRows=[]\n",
    "arrayColumns=[]\n",
    "sumArrayRows=0\n",
    "sumArrayColumns=0\n",
    "#суммирование строк и сохранение промежуточных результатов в массиве.\n",
    "#Суммирование элементов массива и сохранение результата в sumArrayRows\n",
    "for e in range(len(array1)):\n",
    "    sumRows=0\n",
    "    for w in range(len(array1[e])):\n",
    "        sumRows+=array1[e][w]\n",
    "    arrayRows.append(sumRows)\n",
    "\n",
    "for q in range(len(arrayRows)):\n",
    "    sumArrayRows+=arrayRows[q]\n",
    "print(sumArrayRows)\n",
    "\n",
    "#суммирование колонок и сохранение промежуточных результатов в массиве.\n",
    "#Суммирование элементов массива и сохранение результата в sumArrayColumns\n",
    "\n",
    "for s in range(len(array1)):\n",
    "    sumColumns=0\n",
    "    for z in range(len(array1[s])):\n",
    "        sumColumns+=array1[z][s]\n",
    "    arrayColumns.append(sumColumns)\n",
    "    \n",
    "for p in range(len(arrayColumns)):\n",
    "    sumArrayColumns+=arrayColumns[p]\n",
    "print(sumArrayColumns)\n",
    "\n",
    "# сравнение сумм по строкам и сумм по столбцам\n",
    "\n",
    "if sumArrayRows==sumArrayColumns:\n",
    "    print(\"Sums are equivalent!!\")\n",
    "else:\n",
    "    print(\"Sums are not equivalent!! Somthing going wrong!\")"
   ]
  },
  {
   "cell_type": "markdown",
   "metadata": {},
   "source": [
    "12.3.6. Напишите программу, которая симметрично отражает матрицу относительно её главной диагонали."
   ]
  },
  {
   "cell_type": "code",
   "execution_count": 10,
   "metadata": {},
   "outputs": [
    {
     "name": "stdout",
     "output_type": "stream",
     "text": [
      "[1]\n",
      "[1, 2]\n",
      "[1, 2, 3]\n",
      "[1, 2, 3, 4]\n",
      "[1, 2, 3, 4, 5]\n",
      "[1, 2, 3, 4, 5, 6]\n",
      "[1, 2, 3, 4, 5, 6, 7]\n",
      "[1, 2, 3, 4, 5, 6, 7, 8]\n",
      "[1, 2, 3, 4, 5, 6, 7, 8, 9]\n",
      "[1, 2, 3, 4, 5, 6, 7, 8, 9, 10]\n",
      "[1, 2, 3, 4, 5, 6, 7, 8, 9, 10, 11]\n",
      "[1, 2, 3, 4, 5, 6, 7, 8, 9, 10, 11, 12]\n",
      "[1, 2, 3, 4, 5, 6, 7, 8, 9, 10, 11, 12]\n"
     ]
    }
   ],
   "source": [
    "# задача не решена, я еше немного подумаю над ней.\n",
    "array1=[[1,2,3],[4,5,6],[7,8,9],[10,11,12]]\n",
    "array2=[]\n",
    "\n",
    "for i in range(len(array1)):\n",
    "    for j in range(len(array1[i])):\n",
    "        array2.append(array1[i][j])\n",
    "        print(array2)\n",
    "        \n",
    "print(array2)\n",
    "\n"
   ]
  },
  {
   "cell_type": "code",
   "execution_count": null,
   "metadata": {
    "collapsed": true
   },
   "outputs": [],
   "source": []
  }
 ],
 "metadata": {
  "kernelspec": {
   "display_name": "Python 3",
   "language": "python",
   "name": "python3"
  },
  "language_info": {
   "codemirror_mode": {
    "name": "ipython",
    "version": 3
   },
   "file_extension": ".py",
   "mimetype": "text/x-python",
   "name": "python",
   "nbconvert_exporter": "python",
   "pygments_lexer": "ipython3",
   "version": "3.6.1"
  }
 },
 "nbformat": 4,
 "nbformat_minor": 2
}
