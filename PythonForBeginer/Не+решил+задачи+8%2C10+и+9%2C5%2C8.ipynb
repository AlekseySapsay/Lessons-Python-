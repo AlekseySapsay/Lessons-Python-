{
 "cells": [
  {
   "cell_type": "markdown",
   "metadata": {},
   "source": [
    "8.10. Оксана поливает на подоконнике герань, фиалки и кактус. Каждый день она меняет местами правый и центральный горшки, чтобы они равномернее получали солнечные лучи. А Олег вечером переставляет центральный и левый горшочки.\n",
    "\n",
    "Напишите программу, которая выведет порядок цветков на подоконнике через N дней."
   ]
  },
  {
   "cell_type": "code",
   "execution_count": null,
   "metadata": {},
   "outputs": [],
   "source": [
    "N=int(input())\n",
    "\n",
    "#print(\"ГФК\")\n",
    "if N%3==0 and N%2!=0:\n",
    "    print(\"ГФК\")\n",
    "\n",
    "elif N%2==0 and N%3!=0:\n",
    "    print(\"ФКГ\")\n",
    "else:\n",
    "    print(\"КГФ\")"
   ]
  },
  {
   "cell_type": "code",
   "execution_count": null,
   "metadata": {
    "collapsed": true
   },
   "outputs": [],
   "source": []
  },
  {
   "cell_type": "markdown",
   "metadata": {},
   "source": [
    "9.5.8. Вы получили заказ распарсить сайты с ценой на новый айфон. На вход программа получает количество распарсенных значений, и далее набор цен (целые числа). Ваша задача -- найти максимальную и минимальную цены на айфон.\n",
    "\n",
    "Например, входные данные могут быть такими: 5 10000 99000 9000 9900 10001\n",
    "Должны вывестись числа 99000 и 9000."
   ]
  },
  {
   "cell_type": "code",
   "execution_count": 3,
   "metadata": {},
   "outputs": [
    {
     "name": "stdout",
     "output_type": "stream",
     "text": [
      "5\n",
      " Cost 1 is: 4\n",
      " Cost 2 is: 6\n",
      " Cost 3 is: 1\n",
      " Cost 4 is: 4\n",
      " Cost 5 is: 3\n",
      "max cost is: 6 min cost is:3\n"
     ]
    }
   ],
   "source": [
    "number_numses=int(input())\n",
    "\n",
    "max=0\n",
    "min=0\n",
    "\n",
    "for i in range(1,number_numses+1):\n",
    "    num=int(input(\" Cost \"+str(i)+\" is: \"))\n",
    "    if num>max:\n",
    "        max=num\n",
    "    else:\n",
    "        min=num\n",
    "print(\"max cost is: \"+str(max)+\" min cost is:\"+str(min))"
   ]
  },
  {
   "cell_type": "code",
   "execution_count": null,
   "metadata": {
    "collapsed": true
   },
   "outputs": [],
   "source": [
    "if a >= b and a >= c: a max\n",
    "elif b >= a and b >= c: b max\n",
    "else: c max"
   ]
  },
  {
   "cell_type": "code",
   "execution_count": 4,
   "metadata": {
    "collapsed": true
   },
   "outputs": [],
   "source": [
    "#задач с сениорами"
   ]
  },
  {
   "cell_type": "code",
   "execution_count": null,
   "metadata": {
    "collapsed": true
   },
   "outputs": [],
   "source": []
  }
 ],
 "metadata": {
  "kernelspec": {
   "display_name": "Python 3",
   "language": "python",
   "name": "python3"
  },
  "language_info": {
   "codemirror_mode": {
    "name": "ipython",
    "version": 3
   },
   "file_extension": ".py",
   "mimetype": "text/x-python",
   "name": "python",
   "nbconvert_exporter": "python",
   "pygments_lexer": "ipython3",
   "version": "3.6.1"
  }
 },
 "nbformat": 4,
 "nbformat_minor": 2
}
