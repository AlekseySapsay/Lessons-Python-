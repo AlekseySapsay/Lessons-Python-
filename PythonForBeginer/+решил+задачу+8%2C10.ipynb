{
 "cells": [
  {
   "cell_type": "markdown",
   "metadata": {},
   "source": [
    "8.10. Оксана поливает на подоконнике герань, фиалки и кактус. Каждый день она меняет местами правый и центральный горшки, чтобы они равномернее получали солнечные лучи. А Олег вечером переставляет центральный и левый горшочки.\n",
    "\n",
    "Напишите программу, которая выведет порядок цветков на подоконнике через N дней."
   ]
  },
  {
   "cell_type": "code",
   "execution_count": 1,
   "metadata": {},
   "outputs": [
    {
     "name": "stdout",
     "output_type": "stream",
     "text": [
      "Enter number of day 5\n",
      "\n",
      "Initial position is  123\n",
      "Finish position after 5 days  is : 231\n"
     ]
    }
   ],
   "source": [
    "N=int(input(\"Enter number of day \"))\n",
    "\n",
    "left=1\n",
    "center=2\n",
    "right=3\n",
    "buff1=0\n",
    "print(\"\")\n",
    "print(\"Initial position is  123\")\n",
    "\n",
    "for i in range(0,N):\n",
    "    buff1=right\n",
    "    right=center\n",
    "    center=buff1\n",
    "    \n",
    "    buff1=left\n",
    "    left=center\n",
    "    center=buff1\n",
    "    \n",
    "print(\"Finish position after \"+str(N)+\" days  is : \"+str(left)+str(center)+str(right))\n",
    "#print(i+1)\n",
    "    "
   ]
  }
 ],
 "metadata": {
  "kernelspec": {
   "display_name": "Python 3",
   "language": "python",
   "name": "python3"
  },
  "language_info": {
   "codemirror_mode": {
    "name": "ipython",
    "version": 3
   },
   "file_extension": ".py",
   "mimetype": "text/x-python",
   "name": "python",
   "nbconvert_exporter": "python",
   "pygments_lexer": "ipython3",
   "version": "3.6.1"
  }
 },
 "nbformat": 4,
 "nbformat_minor": 2
}
