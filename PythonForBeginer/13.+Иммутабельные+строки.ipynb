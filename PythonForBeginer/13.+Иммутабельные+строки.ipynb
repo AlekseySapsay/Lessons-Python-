{
 "cells": [
  {
   "cell_type": "markdown",
   "metadata": {},
   "source": [
    "13.3.1. Напишите программу, которая подсчитывает количество пробелов в строке."
   ]
  },
  {
   "cell_type": "code",
   "execution_count": 25,
   "metadata": {},
   "outputs": [
    {
     "name": "stdout",
     "output_type": "stream",
     "text": [
      "2\n"
     ]
    }
   ],
   "source": [
    "# 1е решение\n",
    "s=\"I like Python!\"\n",
    "n=s.count(\" \")\n",
    "print(n)"
   ]
  },
  {
   "cell_type": "code",
   "execution_count": 27,
   "metadata": {},
   "outputs": [
    {
     "name": "stdout",
     "output_type": "stream",
     "text": [
      "2\n"
     ]
    }
   ],
   "source": [
    "# 2е решение\n",
    "s=\"I like Python!\"\n",
    "counter=0\n",
    "for i in range(len(s)):\n",
    "    if s[i]==\" \":\n",
    "        counter+=1\n",
    "print(counter)"
   ]
  },
  {
   "cell_type": "markdown",
   "metadata": {},
   "source": [
    "13.3.2. Введите с клавиатуры две строки, сравните их и выведите либо индекс первого символа, с которого начинается неравенство (с учётом того, что длины строк могут различаться), либо EQUALS."
   ]
  },
  {
   "cell_type": "code",
   "execution_count": 32,
   "metadata": {},
   "outputs": [
    {
     "name": "stdout",
     "output_type": "stream",
     "text": [
      "1233333\n",
      "123456\n",
      "3\n"
     ]
    }
   ],
   "source": [
    "s1,s2=[input() for i in range(2)]\n",
    "counter=-1\n",
    "\n",
    "if len(s1)>len(s2):\n",
    "    max_length=len(s1)\n",
    "else:\n",
    "    max_length=len(s2)\n",
    "    \n",
    "for i in range(max_length):\n",
    "    if s1[i]==s2[i]:\n",
    "        counter+=1\n",
    "    else:\n",
    "        break\n",
    "\n",
    "counter+=1\n",
    "\n",
    "if s1[counter]!=s2[counter]:\n",
    "    print(counter)\n",
    "else:\n",
    "    print(\"EQUALS\")\n",
    "#print(s1,s2,counter)\n"
   ]
  },
  {
   "cell_type": "markdown",
   "metadata": {},
   "source": [
    "13.3.3. Напишите программу, которая заменяет в строке все символы 'a' на символ 'z' и выводит на экран результирующую строку."
   ]
  },
  {
   "cell_type": "code",
   "execution_count": 33,
   "metadata": {},
   "outputs": [
    {
     "name": "stdout",
     "output_type": "stream",
     "text": [
      "aaavvvaaaa\n",
      "zzzvvvzzzz\n"
     ]
    }
   ],
   "source": [
    "# 1й вариант решения\n",
    "s=input()\n",
    "s=s.replace(\"a\",\"z\")\n",
    "print(s)"
   ]
  },
  {
   "cell_type": "code",
   "execution_count": 35,
   "metadata": {},
   "outputs": [
    {
     "name": "stdout",
     "output_type": "stream",
     "text": [
      "aaaxxx\n",
      "zzzxxx\n"
     ]
    }
   ],
   "source": [
    "# 2й вариант решения\n",
    "s=input()\n",
    "s=list(s)\n",
    "for i in range(len(s)):\n",
    "    if s[i]==\"a\":\n",
    "        s[i]=\"z\"\n",
    "s=\"\".join(s)\n",
    "print(s)"
   ]
  },
  {
   "cell_type": "markdown",
   "metadata": {},
   "source": [
    "13.3.4. Запишите в переменную, содержащую строку, её саму, перевёрнутую от конца к началу."
   ]
  },
  {
   "cell_type": "code",
   "execution_count": 36,
   "metadata": {},
   "outputs": [
    {
     "name": "stdout",
     "output_type": "stream",
     "text": [
      "123456789\n",
      "987654321\n"
     ]
    }
   ],
   "source": [
    "# 1й вариант решения\n",
    "s=input()\n",
    "s=s[::-1]\n",
    "print(s)"
   ]
  },
  {
   "cell_type": "code",
   "execution_count": 45,
   "metadata": {},
   "outputs": [
    {
     "name": "stdout",
     "output_type": "stream",
     "text": [
      "12345\n",
      "54321\n"
     ]
    }
   ],
   "source": [
    "# 2й вариант решения\n",
    "srevers=s=input()\n",
    "\n",
    "s=list(s)\n",
    "srevers=list(srevers)\n",
    "\n",
    "j=0\n",
    "for i in range(len(s)-1,-1,-1):\n",
    "    #print(i,j)\n",
    "    srevers[j]=s[i]    \n",
    "    j+=1\n",
    "\n",
    "srevers=\"\".join(srevers)\n",
    "\n",
    "print(srevers)\n"
   ]
  },
  {
   "cell_type": "markdown",
   "metadata": {},
   "source": [
    "13.3.5. Введите с клавиатуры две строки, и создайте третью строку, которая будет равна сумме двух этих строк (двум строкам, сцепленным друг за другом). Не используйте стандартную операцию сцепления строк \"+\"."
   ]
  },
  {
   "cell_type": "code",
   "execution_count": 52,
   "metadata": {},
   "outputs": [
    {
     "name": "stdout",
     "output_type": "stream",
     "text": [
      "123\n",
      "456\n",
      "123456\n"
     ]
    }
   ],
   "source": [
    "# 1й способ\n",
    "# Так можно решать задачу? или любой плюс при сложении строк равносилен записи s3=s1+s2?\n",
    "s1,s2=[input() for i in range(2)]\n",
    "s3=s1\n",
    "s3+=s2\n",
    "print(s3)"
   ]
  },
  {
   "cell_type": "code",
   "execution_count": 59,
   "metadata": {},
   "outputs": [
    {
     "name": "stdout",
     "output_type": "stream",
     "text": [
      "123\n",
      "456\n",
      "['1', '2', '3']\n",
      "['1', '2', '3']\n",
      "3\n"
     ]
    }
   ],
   "source": [
    "# 2й способ\n",
    "# не пойму как назначить заполнение со S2, что бы не затирать значения в S3\n",
    "\n",
    "s1,s2=[input() for i in range(2)]\n",
    "\n",
    "s1=list(s1)\n",
    "s2=list(s2)\n",
    "s3=list(s1)\n",
    "\n",
    "for i in range(len(n)):\n",
    "    s3[i]=s[i]\n",
    "    \n",
    "print(s3)\n",
    "print(s1)\n",
    "print(len(n))"
   ]
  },
  {
   "cell_type": "markdown",
   "metadata": {},
   "source": [
    "13.3.6. Напишите программу, которая вводит с клавиатуры две строки, и проверяет, содержится ли в первой строке вторая строка."
   ]
  },
  {
   "cell_type": "code",
   "execution_count": 84,
   "metadata": {},
   "outputs": [
    {
     "name": "stdout",
     "output_type": "stream",
     "text": [
      "123456\n",
      "12\n",
      "['1', '2']\n",
      "S1 is include S2\n",
      "['1', '2', '3', '4', '5', '6'] ['1', '2'] ['1', '2']\n"
     ]
    }
   ],
   "source": [
    "s1,s2=[input() for i in range(2)]\n",
    "\n",
    "s1=list(s1)\n",
    "s2=list(s2)\n",
    "buffer=[0 for i in range(len(s2))]\n",
    "#buffer=list(buffer)\n",
    "#print(buffer)\n",
    "\n",
    "for i in range(len(s1)-1):\n",
    "    for j in range(len(s2)):\n",
    "        if s1[i]==s2[j]:\n",
    "            buffer[j]=\"\".join(s2[j])\n",
    "            \n",
    "print(buffer)\n",
    "#print(s2)\n",
    "if buffer==s2:\n",
    "    print(\"S1 is include S2\")\n",
    "else:\n",
    "    print(\"S1 is not include S2\")\n",
    "    \n",
    "#print(s1,s2,buffer)\n",
    "print(s1,s2,buffer)\n"
   ]
  },
  {
   "cell_type": "markdown",
   "metadata": {},
   "source": [
    "13.3.7. Напишите программу, которая выделяет из строки подстроку -- начиная с заданной позиции и заданной длины, и формирует из неё отдельную строку."
   ]
  },
  {
   "cell_type": "code",
   "execution_count": null,
   "metadata": {
    "collapsed": true
   },
   "outputs": [],
   "source": []
  }
 ],
 "metadata": {
  "kernelspec": {
   "display_name": "Python 3",
   "language": "python",
   "name": "python3"
  },
  "language_info": {
   "codemirror_mode": {
    "name": "ipython",
    "version": 3
   },
   "file_extension": ".py",
   "mimetype": "text/x-python",
   "name": "python",
   "nbconvert_exporter": "python",
   "pygments_lexer": "ipython3",
   "version": "3.6.1"
  }
 },
 "nbformat": 4,
 "nbformat_minor": 2
}
