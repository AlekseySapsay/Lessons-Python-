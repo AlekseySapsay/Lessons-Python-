{
 "cells": [
  {
   "cell_type": "markdown",
   "metadata": {},
   "source": [
    "12.3.1. Напишите программу, которая с помощью вложенных циклов вводит с клавиатуры матрицу переменного размера (размер также вводится с клавиатуры)."
   ]
  },
  {
   "cell_type": "markdown",
   "metadata": {},
   "source": [
    "+12.3.1 имеется в виду, что вы сперва вводите размер , например 3 и 4 , а потом 12 значений матрицы. У вас получается во втором измерении только по одному значению. Ну и не надо пока использовать split().\n",
    "12.3.2 вы сравнивавете двумерные, а надо трёхмерные.\n",
    "+12.3.4 сделаете одним циклом?\n",
    "12.3.6 можете сперва создать массив результирующего размера, где обменены строки и столбцы, и затем просто записывать в него заменой индексов."
   ]
  },
  {
   "cell_type": "code",
   "execution_count": 5,
   "metadata": {},
   "outputs": [
    {
     "name": "stdout",
     "output_type": "stream",
     "text": [
      "3\n",
      "3\n",
      "3\n",
      "3\n",
      "3\n",
      "3\n",
      "3\n",
      "3\n",
      "3\n",
      "3\n",
      "3\n",
      "[[3, 3, 3], [3, 3, 3], [3, 3, 3]]\n"
     ]
    }
   ],
   "source": [
    "N=int(input())\n",
    "M=int(input())\n",
    "\n",
    "a = [[0]*M for i in range(N)]\n",
    "\n",
    "for i in range(N):\n",
    "    for k in range(M):\n",
    "        a[i][k]= int(input())\n",
    "print(a)"
   ]
  },
  {
   "cell_type": "markdown",
   "metadata": {},
   "source": [
    "12.3.2. Напишите программу, которая проверяет, равны ли два трёхмерных массива. Сначала сравните их размеры, и если они совпадают, сравните массивы по значениям."
   ]
  },
  {
   "cell_type": "code",
   "execution_count": 10,
   "metadata": {},
   "outputs": [
    {
     "name": "stdout",
     "output_type": "stream",
     "text": [
      "arrays are equivalent!\n"
     ]
    }
   ],
   "source": [
    "a=[[1,2,3],[4,5,6],[7,8,9]]\n",
    "b=[[1,2,3],[4,5,6],[7,8,9]]\n",
    "\n",
    "elements=0\n",
    "\n",
    "if len(a)==len(b):\n",
    "    \n",
    "    for i in range(len(a)):\n",
    "        for j in range(len(a[i])):\n",
    "            if a[i][j]==b[i][j]:\n",
    "                elements+=1\n",
    "    if elements==(i+1)*(j+1):\n",
    "        print(\"arrays are equivalent!\")\n",
    "    if elements!=(i+1)*(j+1):\n",
    "        print(\"arrays are not equivalent!\")"
   ]
  },
  {
   "cell_type": "markdown",
   "metadata": {},
   "source": [
    "12.3.4. Напишите программу, которая рассчитывает сумму главной диагонали матрицы."
   ]
  },
  {
   "cell_type": "code",
   "execution_count": 8,
   "metadata": {},
   "outputs": [
    {
     "name": "stdout",
     "output_type": "stream",
     "text": [
      "15\n"
     ]
    }
   ],
   "source": [
    "# Исправил. Суммирование выполненное одним циклом\n",
    "array=[[1,2,3],[4,5,6],[7,8,9]]\n",
    "\n",
    "sumGeneralDiag=0\n",
    "i=j=0\n",
    "\n",
    "for k in range(len(array[0])):\n",
    "    i=j\n",
    "    sumGeneralDiag+=array[i][j]\n",
    "    j+=1        \n",
    "print(sumGeneralDiag)"
   ]
  },
  {
   "cell_type": "markdown",
   "metadata": {},
   "source": [
    "12.3.6. Напишите программу, которая симметрично отражает матрицу относительно её главной диагонали."
   ]
  },
  {
   "cell_type": "code",
   "execution_count": 9,
   "metadata": {},
   "outputs": [
    {
     "name": "stdout",
     "output_type": "stream",
     "text": [
      "[[1, 4], [2, 5], [3, 6]]\n"
     ]
    }
   ],
   "source": [
    "# пример из интернетов, \n",
    "a = [[1, 2, 3], [4, 5, 6]]\n",
    "b = [[x[i] for x in a] for i in range(len(a[0]))]\n",
    "print (b)\n"
   ]
  },
  {
   "cell_type": "code",
   "execution_count": null,
   "metadata": {
    "collapsed": true
   },
   "outputs": [],
   "source": []
  }
 ],
 "metadata": {
  "kernelspec": {
   "display_name": "Python 3",
   "language": "python",
   "name": "python3"
  },
  "language_info": {
   "codemirror_mode": {
    "name": "ipython",
    "version": 3
   },
   "file_extension": ".py",
   "mimetype": "text/x-python",
   "name": "python",
   "nbconvert_exporter": "python",
   "pygments_lexer": "ipython3",
   "version": "3.6.1"
  }
 },
 "nbformat": 4,
 "nbformat_minor": 2
}
