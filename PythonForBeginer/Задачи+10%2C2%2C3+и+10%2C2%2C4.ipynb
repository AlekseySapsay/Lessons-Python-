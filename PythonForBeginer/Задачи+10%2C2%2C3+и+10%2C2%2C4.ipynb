{
 "cells": [
  {
   "cell_type": "markdown",
   "metadata": {},
   "source": [
    "* 10.2.3. Определите, сколько единичных разрядов в двоичном представлении вводимого числа N. \n",
    "Подсказка: само число переводить в двоичный вид необязательно."
   ]
  },
  {
   "cell_type": "code",
   "execution_count": 5,
   "metadata": {},
   "outputs": [
    {
     "name": "stdout",
     "output_type": "stream",
     "text": [
      "123\n",
      "61\n",
      "0\n",
      "30\n",
      "0\n",
      "15\n",
      "0\n",
      "7\n",
      "0\n",
      "3\n",
      "0\n",
      "1\n",
      "0\n"
     ]
    }
   ],
   "source": [
    "\n",
    "N=int(input())\n",
    "\n",
    "buffer=N\n",
    "rank=0\n",
    "\n",
    "while N!=1:\n",
    "    N//=2\n",
    "    buffer=N\n",
    "    buffer%=2\n",
    "    if buffer!=0:\n",
    "      rank+=1  \n",
    "    print(str(N))\n",
    "    #print(buffer)"
   ]
  },
  {
   "cell_type": "markdown",
   "metadata": {},
   "source": [
    "* 10.2.4. Удалите из числа, состоящего из двух или более разрядов, заданную цифру. Например, если из числа 12345 удалить цифру 3, то получится число 1245. Подразумевается, что в числе может быть не более одной заданной цифры.\n",
    "Строковые функции использовать нельзя."
   ]
  },
  {
   "cell_type": "code",
   "execution_count": 9,
   "metadata": {},
   "outputs": [
    {
     "name": "stdout",
     "output_type": "stream",
     "text": [
      "123456\n",
      "4\n",
      " 12356\n"
     ]
    }
   ],
   "source": [
    "N=int(input())\n",
    "Pass=int(input())\n",
    "\n",
    "D=N\n",
    "K=1\n",
    "result=0\n",
    "\n",
    "\n",
    "while N!=0:\n",
    "    D=N\n",
    "    D=D%10\n",
    "    N//=10\n",
    "    \n",
    "    if D!=Pass:\n",
    "        result+=D*K\n",
    "        K=K*10\n",
    "    else:\n",
    "        continue\n",
    "#print(\" \" +str(N))\n",
    "print(\" \" +str(result))"
   ]
  },
  {
   "cell_type": "code",
   "execution_count": null,
   "metadata": {
    "collapsed": true
   },
   "outputs": [],
   "source": []
  }
 ],
 "metadata": {
  "kernelspec": {
   "display_name": "Python 3",
   "language": "python",
   "name": "python3"
  },
  "language_info": {
   "codemirror_mode": {
    "name": "ipython",
    "version": 3
   },
   "file_extension": ".py",
   "mimetype": "text/x-python",
   "name": "python",
   "nbconvert_exporter": "python",
   "pygments_lexer": "ipython3",
   "version": "3.6.1"
  }
 },
 "nbformat": 4,
 "nbformat_minor": 2
}
