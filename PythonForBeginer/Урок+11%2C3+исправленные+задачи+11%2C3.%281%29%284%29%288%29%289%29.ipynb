{
 "cells": [
  {
   "cell_type": "markdown",
   "metadata": {},
   "source": [
    "11.3.1 среднее лучше считать по завершении работы цикла.\n",
    "11.3.4 вы сортируете массив специально? Этого лучше всегда избегать, сортировка это нагрузочый алгоритм. Попробуйте сделать за один цикл.\n",
    "\n",
    "11.3.8 с for всё правильно, зачем вы там ещё n += 1 делаете? n и так увеличивается автоматически.\n",
    "11.3.9 не, ну конечно надо так сделать: цикл по кол-ву бросков кубика, в каждом цикле моделируем бросок кубика."
   ]
  },
  {
   "cell_type": "markdown",
   "metadata": {},
   "source": [
    "11.3.1. Напишите программу, которая заполняет список из 100 элементов случайными числами в диапазоне от 1 до 50, и затем выводит их сумму и среднее. Следующие упражнения выполняйте на основе этого кода (есть готовый массив со случайными значениями)."
   ]
  },
  {
   "cell_type": "code",
   "execution_count": null,
   "metadata": {
    "scrolled": true
   },
   "outputs": [],
   "source": [
    "import random\n",
    "\n",
    "summ=0\n",
    "average=0\n",
    "x=[]\n",
    "\n",
    "for i in range(100):\n",
    "    x.append(random.randint(0,50))\n",
    "    summ+=x[i]\n",
    "    \n",
    "average=summ/len(x)\n",
    "print(\"Summ x list: \" + str(summ))\n",
    "print(\"Average : \"+str(average))\n",
    "print(\"Lenth x is :\"+str(len(x)))   "
   ]
  },
  {
   "cell_type": "markdown",
   "metadata": {},
   "source": [
    "11.3.4. Напишите программу, которая находит второй по величине элемент массива."
   ]
  },
  {
   "cell_type": "code",
   "execution_count": 27,
   "metadata": {},
   "outputs": [
    {
     "name": "stdout",
     "output_type": "stream",
     "text": [
      "[72, 33, 5, 27, 57, 24, 19, 12, 72, 51, 96, 73, 85, 57, 4, 88, 64, 4, 72, 68]\n",
      "96\n",
      "88\n"
     ]
    }
   ],
   "source": [
    "import random\n",
    "\n",
    "c=[]\n",
    "\n",
    "for i in range(20):\n",
    "    c.append(random.randint(1,100))\n",
    "print(c)\n",
    "\n",
    "max1=c[0]\n",
    "max2=c[1]\n",
    "n=0\n",
    "\n",
    "while n < len(c):\n",
    "    set=c[n]\n",
    "    if max1<set:\n",
    "        max1,max2=set,max1 \n",
    "    elif max2<set:\n",
    "        max2=set\n",
    "    n+=1\n",
    "    \n",
    "print(max1)    \n",
    "print(max2)"
   ]
  },
  {
   "cell_type": "markdown",
   "metadata": {},
   "source": [
    "11.3.8. Напишите программу, которая сортирует массив из 10 элементов по возрастанию."
   ]
  },
  {
   "cell_type": "code",
   "execution_count": 28,
   "metadata": {},
   "outputs": [
    {
     "name": "stdout",
     "output_type": "stream",
     "text": [
      "[283, 436, 589, 724, 829, 359, 423, 320, 981, 371]\n",
      "10\n",
      "[283, 320, 359, 371, 423, 436, 589, 724, 829, 981]\n"
     ]
    }
   ],
   "source": [
    "import random\n",
    "\n",
    "q=[]\n",
    "\n",
    "for i in range(10):\n",
    "    q.append(random.randint(0,1000))\n",
    "    \n",
    "print(q)\n",
    "print(len(q))\n",
    "\n",
    "n=1\n",
    "\n",
    "while n in range(len(q)):\n",
    "    for i in range(len(q)-n):\n",
    "        if q[i]>q[i+1]:\n",
    "            buffer=q[i+1]\n",
    "            q[i+1]=q[i]\n",
    "            q[i]=buffer\n",
    "            \n",
    "    n+=1\n",
    "print(q)"
   ]
  },
  {
   "cell_type": "code",
   "execution_count": 33,
   "metadata": {},
   "outputs": [
    {
     "name": "stdout",
     "output_type": "stream",
     "text": [
      "[857, 388, 21, 621, 942, 929, 713, 355, 863, 848]\n",
      "10\n",
      "[21, 355, 388, 621, 713, 848, 857, 863, 929, 942]\n"
     ]
    }
   ],
   "source": [
    "# не понимаю, почему тот же код необходимо поменять условие для фор. Уменьшить на 1 длину массива сортировки\n",
    "\n",
    "import random\n",
    "\n",
    "q=[]\n",
    "\n",
    "for i in range(10):\n",
    "    q.append(random.randint(0,1000))\n",
    "    \n",
    "print(q)\n",
    "print(len(q))\n",
    "\n",
    "n=0\n",
    "\n",
    "for n in range(len(q)):\n",
    "    for i in range(len(q)-n-1):\n",
    "        if q[i]>q[i+1]:\n",
    "            buffer=q[i+1]\n",
    "            q[i+1]=q[i]\n",
    "            q[i]=buffer\n",
    "\n",
    "print(q)"
   ]
  },
  {
   "cell_type": "markdown",
   "metadata": {},
   "source": [
    "11.3.9. Реализуйте логику метания кубиков из игры Dungeons & Dragons. Логика кубика записывается формулой NdM, где N -- количество кубиков, а M -- количество граней каждого кубика. Например, 3d12 означает бросок трёх двенадцатигранных кубиков. Соответственно, минимально может выпасть 3, а максимально 36. Вам надо вывести результат метания кубика, для которого введены N и M."
   ]
  },
  {
   "cell_type": "code",
   "execution_count": 39,
   "metadata": {},
   "outputs": [
    {
     "name": "stdout",
     "output_type": "stream",
     "text": [
      "5\n",
      "15\n",
      "[1, 2, 3, 4, 3, 10, 2, 3, 14, 4, 6, 13, 12, 8, 4]\n",
      "[6, 8, 1, 12, 15, 7, 1, 14, 1, 15, 11, 11, 9, 4, 10]\n",
      "[11, 10, 3, 4, 11, 5, 12, 7, 9, 4, 1, 9, 4, 4, 14]\n",
      "[14, 12, 2, 11, 7, 5, 8, 4, 15, 6, 15, 3, 13, 9, 13]\n",
      "[4, 13, 9, 3, 7, 7, 2, 15, 7, 3, 12, 7, 11, 10, 1]\n"
     ]
    }
   ],
   "source": [
    "import random\n",
    "\n",
    "N=int(input())\n",
    "M=int(input())\n",
    "\n",
    "for i in range(N):\n",
    "    t=[]\n",
    "    for r in range(M):\n",
    "        t.append(random.randint(1,M))\n",
    "    print(t)\n"
   ]
  }
 ],
 "metadata": {
  "kernelspec": {
   "display_name": "Python 3",
   "language": "python",
   "name": "python3"
  },
  "language_info": {
   "codemirror_mode": {
    "name": "ipython",
    "version": 3
   },
   "file_extension": ".py",
   "mimetype": "text/x-python",
   "name": "python",
   "nbconvert_exporter": "python",
   "pygments_lexer": "ipython3",
   "version": "3.6.1"
  }
 },
 "nbformat": 4,
 "nbformat_minor": 2
}
