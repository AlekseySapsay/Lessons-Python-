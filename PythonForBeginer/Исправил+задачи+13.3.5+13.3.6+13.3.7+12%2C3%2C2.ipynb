{
 "cells": [
  {
   "cell_type": "markdown",
   "metadata": {},
   "source": [
    "13.3.5. Введите с клавиатуры две строки, и создайте третью строку, которая будет равна сумме двух этих строк (двум строкам, сцепленным друг за другом). Не используйте стандартную операцию сцепления строк \"+\"."
   ]
  },
  {
   "cell_type": "code",
   "execution_count": 2,
   "metadata": {},
   "outputs": [
    {
     "name": "stdout",
     "output_type": "stream",
     "text": [
      "123\n",
      "456\n",
      "123456\n"
     ]
    }
   ],
   "source": [
    "s1,s2=[input() for i in range(2)]\n",
    "\n",
    "s3=[]\n",
    "    \n",
    "for i in range(len(s1)):    s3.append(s1[i])\n",
    "for i in range(len(s2)):    s3.append(s2[i])\n",
    "\n",
    "s3=\"\".join(s3)\n",
    "\n",
    "print(s3)"
   ]
  },
  {
   "cell_type": "markdown",
   "metadata": {},
   "source": [
    "13.3.6. Напишите программу, которая вводит с клавиатуры две строки, и проверяет, содержится ли в первой строке вторая строка."
   ]
  },
  {
   "cell_type": "code",
   "execution_count": 34,
   "metadata": {},
   "outputs": [
    {
     "name": "stdout",
     "output_type": "stream",
     "text": [
      "123456\n",
      "65\n",
      "S1 is not include S2\n"
     ]
    }
   ],
   "source": [
    "s1,s2=[input() for i in range(2)]\n",
    "\n",
    "s1=list(s1)\n",
    "s3=[]\n",
    "\n",
    "delta=len(s1)-len(s2)+1\n",
    "\n",
    "for i in range(delta):\n",
    "    s3=[]\n",
    "    for j in range(len(s2)):\n",
    "        s3.append(s1[j+i])\n",
    "        \n",
    "    s3=\"\".join(str(x) for x in s3)\n",
    "        \n",
    "    if s3==s2:\n",
    "        print(\"S1 is include S2\")\n",
    "        break\n",
    "if s3!=s2:    \n",
    "    print(\"S1 is not include S2\")"
   ]
  },
  {
   "cell_type": "markdown",
   "metadata": {},
   "source": [
    "13.3.7. Напишите программу, которая выделяет из строки подстроку -- начиная с заданной позиции и заданной длины, и формирует из неё отдельную строку."
   ]
  },
  {
   "cell_type": "code",
   "execution_count": 6,
   "metadata": {},
   "outputs": [
    {
     "name": "stdout",
     "output_type": "stream",
     "text": [
      "0123456789\n",
      "4\n",
      "4\n",
      "4567\n"
     ]
    }
   ],
   "source": [
    "s,start,length=[input() for i in range(3)]\n",
    "s1=[]\n",
    "\n",
    "for start in range(int(start),int(length)+int(start)):\n",
    "    s1.append(s[start])\n",
    "s1=\"\".join(s1)\n",
    "print(s1)"
   ]
  },
  {
   "cell_type": "markdown",
   "metadata": {},
   "source": [
    "12.3.2. Напишите программу, которая проверяет, равны ли два трёхмерных массива. Сначала сравните их размеры, и если они совпадают, сравните массивы по значениям."
   ]
  },
  {
   "cell_type": "code",
   "execution_count": 29,
   "metadata": {},
   "outputs": [
    {
     "name": "stdout",
     "output_type": "stream",
     "text": [
      "12457800234567\n",
      "12457800\n",
      "Arrays are not equal\n"
     ]
    }
   ],
   "source": [
    "a=[ [[1,2],[4,5]] , [[7,8],[0,0,2,3,4,5,6,7]] ]\n",
    "b=[ [[1,2],[4,5]] , [[7,8],[0,0]] ]\n",
    "\n",
    "astring=[]\n",
    "bstring=[]\n",
    "\n",
    "for i in range(len(a)):\n",
    "    for j in range(len(a[i])):\n",
    "        for k in range(len(a[i][j])):\n",
    "            astring.append(a[i][j][k])\n",
    "            \n",
    "for m in range(len(b)):\n",
    "    for n in range(len(b[m])):\n",
    "        for l in range(len(b[m][n])):\n",
    "            bstring.append(b[m][n][l])\n",
    "            \n",
    "astring=\"\".join(str(x) for x in astring)\n",
    "bstring=\"\".join(str(x) for x in bstring)\n",
    "\n",
    "print(astring)\n",
    "print(bstring)\n",
    "if astring==bstring:\n",
    "    print(\"Arrays are equal\")\n",
    "else:\n",
    "    print(\"Arrays are not equal\")"
   ]
  }
 ],
 "metadata": {
  "kernelspec": {
   "display_name": "Python 3",
   "language": "python",
   "name": "python3"
  },
  "language_info": {
   "codemirror_mode": {
    "name": "ipython",
    "version": 3
   },
   "file_extension": ".py",
   "mimetype": "text/x-python",
   "name": "python",
   "nbconvert_exporter": "python",
   "pygments_lexer": "ipython3",
   "version": "3.6.1"
  }
 },
 "nbformat": 4,
 "nbformat_minor": 2
}
