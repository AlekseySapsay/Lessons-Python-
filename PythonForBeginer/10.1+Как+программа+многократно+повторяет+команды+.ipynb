{
 "cells": [
  {
   "cell_type": "markdown",
   "metadata": {},
   "source": [
    "10.2.1. Выведите три раза сообщение \"hello\"."
   ]
  },
  {
   "cell_type": "code",
   "execution_count": 3,
   "metadata": {},
   "outputs": [
    {
     "name": "stdout",
     "output_type": "stream",
     "text": [
      "Hello!\n",
      "Hello!\n",
      "Hello!\n"
     ]
    }
   ],
   "source": [
    "i=0\n",
    "while i<3:\n",
    "    print(\"Hello!\")\n",
    "    i+=1"
   ]
  },
  {
   "cell_type": "markdown",
   "metadata": {},
   "source": [
    "10.2.2. Выведите числа от N (само N вводится с клавиатуры) до 1 -- в обратном порядке (по убыванию)."
   ]
  },
  {
   "cell_type": "code",
   "execution_count": 5,
   "metadata": {},
   "outputs": [
    {
     "name": "stdout",
     "output_type": "stream",
     "text": [
      "100\n",
      "\n",
      "100\n",
      "99\n",
      "98\n",
      "97\n",
      "96\n",
      "95\n",
      "94\n",
      "93\n",
      "92\n",
      "91\n",
      "90\n",
      "89\n",
      "88\n",
      "87\n",
      "86\n",
      "85\n",
      "84\n",
      "83\n",
      "82\n",
      "81\n",
      "80\n",
      "79\n",
      "78\n",
      "77\n",
      "76\n",
      "75\n",
      "74\n",
      "73\n",
      "72\n",
      "71\n",
      "70\n",
      "69\n",
      "68\n",
      "67\n",
      "66\n",
      "65\n",
      "64\n",
      "63\n",
      "62\n",
      "61\n",
      "60\n",
      "59\n",
      "58\n",
      "57\n",
      "56\n",
      "55\n",
      "54\n",
      "53\n",
      "52\n",
      "51\n",
      "50\n",
      "49\n",
      "48\n",
      "47\n",
      "46\n",
      "45\n",
      "44\n",
      "43\n",
      "42\n",
      "41\n",
      "40\n",
      "39\n",
      "38\n",
      "37\n",
      "36\n",
      "35\n",
      "34\n",
      "33\n",
      "32\n",
      "31\n",
      "30\n",
      "29\n",
      "28\n",
      "27\n",
      "26\n",
      "25\n",
      "24\n",
      "23\n",
      "22\n",
      "21\n",
      "20\n",
      "19\n",
      "18\n",
      "17\n",
      "16\n",
      "15\n",
      "14\n",
      "13\n",
      "12\n",
      "11\n",
      "10\n",
      "9\n",
      "8\n",
      "7\n",
      "6\n",
      "5\n",
      "4\n",
      "3\n",
      "2\n",
      "1\n"
     ]
    }
   ],
   "source": [
    "N=int(input())\n",
    "print(\"\")\n",
    "i=0\n",
    "while i<N:\n",
    "    print(str(N-i))\n",
    "    i+=1"
   ]
  },
  {
   "cell_type": "markdown",
   "metadata": {},
   "source": [
    "* 10.2.3. Определите, сколько единичных разрядов в двоичном представлении вводимого числа N. \n",
    "Подсказка: само число переводить в двоичный вид необязательно."
   ]
  },
  {
   "cell_type": "code",
   "execution_count": 3,
   "metadata": {},
   "outputs": [
    {
     "name": "stdout",
     "output_type": "stream",
     "text": [
      "1234\n",
      "989899\n"
     ]
    }
   ],
   "source": []
  },
  {
   "cell_type": "markdown",
   "metadata": {},
   "source": [
    "* 10.2.4. Удалите из числа, состоящего из двух или более разрядов, заданную цифру. Например, если из числа 12345 удалить цифру 3, то получится число 1245. Подразумевается, что в числе может быть не более одной заданной цифры.\n",
    "Строковые функции использовать нельзя."
   ]
  },
  {
   "cell_type": "code",
   "execution_count": 28,
   "metadata": {},
   "outputs": [
    {
     "name": "stdout",
     "output_type": "stream",
     "text": [
      "15\n",
      "0510\n"
     ]
    }
   ],
   "source": [
    "# не понимаю как сделать счетчик, считающий разряды.\n",
    "N=int(input())\n",
    "\n",
    "i=0\n",
    "dig=0\n",
    "dec=0\n",
    "hun=0\n",
    "\n",
    "while N>0:\n",
    "    N-=1\n",
    "    i+=1\n",
    "    \n",
    "    if i>0 and i<=10:\n",
    "        dig+=1\n",
    "    if i>10 and i<=100:\n",
    "        dec+=1\n",
    "    if i>100 and i<=1000:\n",
    "        hun+=1\n",
    "print(str(hun)+str(dec)+ str(dig))"
   ]
  },
  {
   "cell_type": "code",
   "execution_count": 33,
   "metadata": {},
   "outputs": [
    {
     "name": "stdout",
     "output_type": "stream",
     "text": [
      "12\n",
      " number of digits in 12 is 2\n"
     ]
    }
   ],
   "source": [
    "# простой счетчик для числа разрядов \n",
    "\n",
    "N=int(input())\n",
    "N=abs(N)\n",
    "N1=N\n",
    "\n",
    "counter=1\n",
    "\n",
    "N//10\n",
    "while N>10:\n",
    "    N//=10\n",
    "    counter+=1\n",
    "print(\" number of digits in \" +str(N1)+ \" is \"+str(counter))"
   ]
  },
  {
   "cell_type": "markdown",
   "metadata": {},
   "source": [
    "10.2.5. Олег моделирует в гараже ядерную реакцию. Она станет неуправляемой после того, когда количество разделившихся ядер превысит критический порог.\n",
    "\n",
    "На входе -- начальное количество ядер в некоторых условных единицах. Надо умножать это количество на 3 до тех пор, пока процесс не станет неправляемым -- больше заданного критического порога. Определите максимальное безопасное количество делений до начала неуправляемой реакции.\n",
    "\n",
    "Например, введены числа 3 и 28, количество безопасных делений будет равно 2."
   ]
  },
  {
   "cell_type": "code",
   "execution_count": 16,
   "metadata": {},
   "outputs": [
    {
     "name": "stdout",
     "output_type": "stream",
     "text": [
      "3\n",
      "82\n",
      "Need 3 times !\n"
     ]
    }
   ],
   "source": [
    "start=int(input())\n",
    "stop=int(input())\n",
    "\n",
    "i=0\n",
    "while start< stop:\n",
    "    start*=3\n",
    "    i+=1\n",
    "print(\"Need \"+ str(i-1)+\" times !\")"
   ]
  },
  {
   "cell_type": "code",
   "execution_count": null,
   "metadata": {
    "collapsed": true
   },
   "outputs": [],
   "source": []
  }
 ],
 "metadata": {
  "kernelspec": {
   "display_name": "Python 3",
   "language": "python",
   "name": "python3"
  },
  "language_info": {
   "codemirror_mode": {
    "name": "ipython",
    "version": 3
   },
   "file_extension": ".py",
   "mimetype": "text/x-python",
   "name": "python",
   "nbconvert_exporter": "python",
   "pygments_lexer": "ipython3",
   "version": "3.6.1"
  }
 },
 "nbformat": 4,
 "nbformat_minor": 2
}
