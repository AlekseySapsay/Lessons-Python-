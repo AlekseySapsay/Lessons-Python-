{
 "cells": [
  {
   "cell_type": "code",
   "execution_count": null,
   "metadata": {
    "collapsed": true
   },
   "outputs": [],
   "source": [
    "9.5.1. Напишите программу, которая печатает такой узор:\n",
    "\n",
    "* \n",
    "* * \n",
    "* * * \n",
    "* * * * \n",
    "* * * * * \n",
    "* * * * \n",
    "* * * \n",
    "* * \n",
    "*"
   ]
  },
  {
   "cell_type": "code",
   "execution_count": 1,
   "metadata": {},
   "outputs": [
    {
     "name": "stdout",
     "output_type": "stream",
     "text": [
      "\n",
      "*\n",
      "**\n",
      "***\n",
      "****\n",
      "*****\n",
      "****\n",
      "***\n",
      "**\n",
      "*\n",
      "\n"
     ]
    }
   ],
   "source": [
    "for j in range(6):\n",
    "    for i in range(j):\n",
    "        print(\"*\", end=\"\")\n",
    "    print(\"\")\n",
    "for k in range(5):\n",
    "    for m in range(4-k):\n",
    "        print(\"*\", end=\"\")\n",
    "    print(\"\")"
   ]
  },
  {
   "cell_type": "markdown",
   "metadata": {},
   "source": [
    "    9.5.2. Напишите программу, которая подсчитывает и выводит количество чисел между 100 и 400, которые нацело делятся на 7."
   ]
  },
  {
   "cell_type": "code",
   "execution_count": 2,
   "metadata": {},
   "outputs": [
    {
     "name": "stdout",
     "output_type": "stream",
     "text": [
      "43\n"
     ]
    }
   ],
   "source": [
    "counter=0\n",
    "for i in range(100,401):\n",
    "    if i%7==0:\n",
    "        counter+=1\n",
    "        if i==399:\n",
    "            print(counter)"
   ]
  },
  {
   "cell_type": "code",
   "execution_count": null,
   "metadata": {
    "collapsed": true
   },
   "outputs": [],
   "source": [
    "9.5.3. Напишите программу, которая печатает такой узор:\n",
    "\n",
    "*****                                                                  \n",
    "*                                                                      \n",
    "*                                                                      \n",
    "****                                                                   \n",
    "*                                                                      \n",
    "*                                                                      \n",
    "*****"
   ]
  },
  {
   "cell_type": "code",
   "execution_count": 3,
   "metadata": {},
   "outputs": [
    {
     "name": "stdout",
     "output_type": "stream",
     "text": [
      "*****\n",
      "*\n",
      "*\n",
      "****\n",
      "*\n",
      "*\n",
      "*****\n"
     ]
    }
   ],
   "source": [
    "for i in range(10):\n",
    "    if i==0 or i==8:\n",
    "        for k in range(4):\n",
    "            print(\"*\", end=\"\")\n",
    "    elif i==4:\n",
    "        for v in range(3):\n",
    "            print(\"*\",end=\"\")\n",
    "    else:\n",
    "        print(\"*\")"
   ]
  },
  {
   "cell_type": "markdown",
   "metadata": {},
   "source": [
    "9.5.4. Хакер сканирует роутеры Cisco на наличие уязвимости CVE-2018-0171. Как только такая уязвимость будет обнаружена, он грузит в корпоративную сеть свой руткит -- профит!\n",
    "Ваша программа-сканер получает на вход число -- количество роутеров. Далее она вводит коды уязвимостей (целые числа), и если код равен 171, программа должна завершиться и вывести порядковый номер роутера, начиная с 1. Если уязвимостей не найдено, надо проинформировать об этом.\n",
    "\n",
    "Например, на входе будут числа\n",
    "3 128 171 256\n",
    "\n",
    "Программа должна вывести сообщение в духе \"2-й роутер уязвим\"."
   ]
  },
  {
   "cell_type": "code",
   "execution_count": 4,
   "metadata": {},
   "outputs": [
    {
     "name": "stdout",
     "output_type": "stream",
     "text": [
      "2\n",
      " router number 127\n",
      "Vulnerability is absent\n",
      " router number 171\n",
      "vulnerability for  router number: 2\n"
     ]
    }
   ],
   "source": [
    "number_routers=int(input())\n",
    "\n",
    "max=0\n",
    "min=0\n",
    "\n",
    "for i in range(1,number_routers+1):\n",
    "    num=int(input(\" router number \"))\n",
    "    if num==171:\n",
    "        numVulnerability=i\n",
    "        print(\"vulnerability for  router number: \"+str(numVulnerability))\n",
    "    else: \n",
    "        print(\"Vulnerability is absent\")"
   ]
  },
  {
   "cell_type": "code",
   "execution_count": null,
   "metadata": {
    "collapsed": true
   },
   "outputs": [],
   "source": [
    "9.5.5. Напишите программу, которая печатает такой узор:\n",
    "\n",
    "ooooooooooooooooo                                                       \n",
    "ooooooooooooooooo                                                       \n",
    "ooooooooooooooooo                                                       \n",
    "oooo                                                                    \n",
    "oooo                                                                    \n",
    "oooo                                                                    \n",
    "ooooooooooooooooo                                                       \n",
    "ooooooooooooooooo                                                       \n",
    "ooooooooooooooooo                                                       \n",
    "             oooo                                                       \n",
    "             oooo                                                       \n",
    "             oooo                                                       \n",
    "ooooooooooooooooo                                                       \n",
    "ooooooooooooooooo                                                       \n",
    "ooooooooooooooooo "
   ]
  },
  {
   "cell_type": "code",
   "execution_count": 5,
   "metadata": {},
   "outputs": [
    {
     "name": "stdout",
     "output_type": "stream",
     "text": [
      "00000000000000000\n",
      "00000000000000000\n",
      "00000000000000000\n",
      "0000\n",
      "0000\n",
      "0000\n",
      "00000000000000000\n",
      "00000000000000000\n",
      "00000000000000000\n",
      "             0000\n",
      "             0000\n",
      "             0000\n",
      "00000000000000000\n",
      "00000000000000000\n",
      "00000000000000000\n"
     ]
    }
   ],
   "source": [
    "for i in range(3):\n",
    "    for k in range(3):\n",
    "        print(\"00000000000000000\")\n",
    "    if i==0:\n",
    "        for v in range(3):\n",
    "            print(\"0000\")\n",
    "    if i==1:\n",
    "        for c in range(3):\n",
    "            print(\"             0000\")"
   ]
  },
  {
   "cell_type": "markdown",
   "metadata": {},
   "source": [
    "9.5.6. Найдите наибольший общий делитель (НОД) двух целых чисел X и Y.\n",
    "НОД -- это максимальное число, на которое делится без остатка и X, и Y."
   ]
  },
  {
   "cell_type": "code",
   "execution_count": 6,
   "metadata": {},
   "outputs": [
    {
     "name": "stdout",
     "output_type": "stream",
     "text": [
      "Enter number 685\n",
      "Enter number 380\n",
      "5\n"
     ]
    }
   ],
   "source": [
    "X=int(input(\"Enter number \"))\n",
    "Y=int(input(\"Enter number \"))\n",
    "\n",
    "if X>Y:\n",
    "    max=X\n",
    "else:\n",
    "    max=Y\n",
    "\n",
    "for i in range(1,max+1):\n",
    "    if X%i==0 and Y%i==0:\n",
    "        NOD=i\n",
    "print(NOD)"
   ]
  },
  {
   "cell_type": "code",
   "execution_count": null,
   "metadata": {
    "collapsed": true
   },
   "outputs": [],
   "source": [
    "9.5.7. Напишите программу, которая выводит таблицу умножения от 1 до 9 в формате\n",
    "\n",
    "1x1 = 1\n",
    "1x2 = 2\n",
    "1x3 = 3\n",
    "\n",
    "...\n",
    "5x1 = 5\n",
    "5x2 = 10\n",
    "5x3 = 15\n",
    "...\n",
    "9x1 = 9\n",
    "9x2 = 18\n",
    "9x3 = 27\n",
    "..."
   ]
  },
  {
   "cell_type": "code",
   "execution_count": 7,
   "metadata": {},
   "outputs": [
    {
     "name": "stdout",
     "output_type": "stream",
     "text": [
      "1 * 1 = 1\n",
      "1 * 2 = 2\n",
      "1 * 3 = 3\n",
      "1 * 4 = 4\n",
      "1 * 5 = 5\n",
      "1 * 6 = 6\n",
      "1 * 7 = 7\n",
      "1 * 8 = 8\n",
      "1 * 9 = 9\n",
      "1 * 10 = 10\n",
      "\n",
      "2 * 1 = 2\n",
      "2 * 2 = 4\n",
      "2 * 3 = 6\n",
      "2 * 4 = 8\n",
      "2 * 5 = 10\n",
      "2 * 6 = 12\n",
      "2 * 7 = 14\n",
      "2 * 8 = 16\n",
      "2 * 9 = 18\n",
      "2 * 10 = 20\n",
      "\n",
      "3 * 1 = 3\n",
      "3 * 2 = 6\n",
      "3 * 3 = 9\n",
      "3 * 4 = 12\n",
      "3 * 5 = 15\n",
      "3 * 6 = 18\n",
      "3 * 7 = 21\n",
      "3 * 8 = 24\n",
      "3 * 9 = 27\n",
      "3 * 10 = 30\n",
      "\n",
      "4 * 1 = 4\n",
      "4 * 2 = 8\n",
      "4 * 3 = 12\n",
      "4 * 4 = 16\n",
      "4 * 5 = 20\n",
      "4 * 6 = 24\n",
      "4 * 7 = 28\n",
      "4 * 8 = 32\n",
      "4 * 9 = 36\n",
      "4 * 10 = 40\n",
      "\n",
      "5 * 1 = 5\n",
      "5 * 2 = 10\n",
      "5 * 3 = 15\n",
      "5 * 4 = 20\n",
      "5 * 5 = 25\n",
      "5 * 6 = 30\n",
      "5 * 7 = 35\n",
      "5 * 8 = 40\n",
      "5 * 9 = 45\n",
      "5 * 10 = 50\n",
      "\n",
      "6 * 1 = 6\n",
      "6 * 2 = 12\n",
      "6 * 3 = 18\n",
      "6 * 4 = 24\n",
      "6 * 5 = 30\n",
      "6 * 6 = 36\n",
      "6 * 7 = 42\n",
      "6 * 8 = 48\n",
      "6 * 9 = 54\n",
      "6 * 10 = 60\n",
      "\n",
      "7 * 1 = 7\n",
      "7 * 2 = 14\n",
      "7 * 3 = 21\n",
      "7 * 4 = 28\n",
      "7 * 5 = 35\n",
      "7 * 6 = 42\n",
      "7 * 7 = 49\n",
      "7 * 8 = 56\n",
      "7 * 9 = 63\n",
      "7 * 10 = 70\n",
      "\n",
      "8 * 1 = 8\n",
      "8 * 2 = 16\n",
      "8 * 3 = 24\n",
      "8 * 4 = 32\n",
      "8 * 5 = 40\n",
      "8 * 6 = 48\n",
      "8 * 7 = 56\n",
      "8 * 8 = 64\n",
      "8 * 9 = 72\n",
      "8 * 10 = 80\n",
      "\n",
      "9 * 1 = 9\n",
      "9 * 2 = 18\n",
      "9 * 3 = 27\n",
      "9 * 4 = 36\n",
      "9 * 5 = 45\n",
      "9 * 6 = 54\n",
      "9 * 7 = 63\n",
      "9 * 8 = 72\n",
      "9 * 9 = 81\n",
      "9 * 10 = 90\n",
      "\n",
      "10 * 1 = 10\n",
      "10 * 2 = 20\n",
      "10 * 3 = 30\n",
      "10 * 4 = 40\n",
      "10 * 5 = 50\n",
      "10 * 6 = 60\n",
      "10 * 7 = 70\n",
      "10 * 8 = 80\n",
      "10 * 9 = 90\n",
      "10 * 10 = 100\n",
      "\n"
     ]
    }
   ],
   "source": [
    "for i in range(1,11):\n",
    "    for k in range(1,11):\n",
    "        answer=i*k\n",
    "        print(str(i)+\" * \"+str(k)+\" = \" + str(answer))\n",
    "    print(\"\")"
   ]
  },
  {
   "cell_type": "markdown",
   "metadata": {},
   "source": [
    "9.5.8. Вы получили заказ распарсить сайты с ценой на новый айфон. На вход программа получает количество распарсенных значений, и далее набор цен (целые числа). Ваша задача -- найти максимальную и минимальную цены на айфон.\n",
    "\n",
    "Например, входные данные могут быть такими: 5 10000 99000 9000 9900 10001\n",
    "Должны вывестись числа 99000 и 9000."
   ]
  },
  {
   "cell_type": "code",
   "execution_count": 8,
   "metadata": {},
   "outputs": [
    {
     "name": "stdout",
     "output_type": "stream",
     "text": [
      "5\n",
      " Cost 10000\n",
      " Cost 99000\n",
      " Cost 9000\n",
      " Cost 9900\n",
      " Cost 10001\n",
      "max cost is: 99000 min cost is:10001\n"
     ]
    }
   ],
   "source": [
    "number_numses=int(input())\n",
    "\n",
    "max=0\n",
    "min=0\n",
    "\n",
    "for i in range(1,number_numses+1):\n",
    "    num=int(input(\" Cost \"))\n",
    "    if num>max:\n",
    "        max=num\n",
    "    else:\n",
    "        min=num\n",
    "print(\"max cost is: \"+str(max)+\" min cost is:\"+str(min))"
   ]
  },
  {
   "cell_type": "markdown",
   "metadata": {},
   "source": [
    "9.5.9. Вы купили в трамвае билет (шестизначное целое число, начинается не с нуля), и теперь решаете, надо ли его съесть. Чтобы понять, счастливый ли билет, проверьте, равна ли сумма первых трёх цифр числа сумме трёх последних цифр.\n",
    "Например, число 124007 счастливое."
   ]
  },
  {
   "cell_type": "code",
   "execution_count": 9,
   "metadata": {},
   "outputs": [
    {
     "name": "stdout",
     "output_type": "stream",
     "text": [
      "Enter number of tiket111222\n",
      "try other\n"
     ]
    }
   ],
   "source": [
    "num=int(input(\"Enter number of tiket\"))\n",
    "\n",
    "middle=num//1000\n",
    "\n",
    "one=middle//100\n",
    "two=middle//10%10\n",
    "three=middle%10\n",
    "\n",
    "buffer=num%1000\n",
    "\n",
    "four=buffer//100\n",
    "five=buffer//10%10\n",
    "six=buffer%10\n",
    "\n",
    "if (one+two+three)==(four+five+six):\n",
    "    print(\" Happy tiket \")\n",
    "else:\n",
    "    print(\"try other\")"
   ]
  },
  {
   "cell_type": "markdown",
   "metadata": {},
   "source": [
    "9.5.10. Школьник Вася взломал систему электронного дневника и получил доступ к своим оценкам. Однако оценки оказались зашифрованными. Если число чётное, это четвёрка. Если число нацело делится на 5, это пятёрка, если нацело делится на 3, это тройка, а если нацело делится на 13, это двойка.\n",
    "Введите первым числом количество оценок в дневнике, и далее сами оценки. Вам надо подсчитать количество оценок каждого типа.\n",
    "\n",
    "Например: 5 4 25 9 91 8\n",
    "У Васи две четвёрки, одна пятёрка, одна двойка, и одна тройка."
   ]
  },
  {
   "cell_type": "code",
   "execution_count": 10,
   "metadata": {},
   "outputs": [
    {
     "name": "stdout",
     "output_type": "stream",
     "text": [
      "Enter quantity of scores5\n",
      "Enter score4\n",
      "it is 4\n",
      "2 times :0 , 3 times: 0 , 4 times: 1 , 5 times: 0\n",
      "Enter score25\n",
      "it is 5\n",
      "2 times :0 , 3 times: 0 , 4 times: 1 , 5 times: 1\n",
      "Enter score9\n",
      "it is 3\n",
      "2 times :0 , 3 times: 1 , 4 times: 1 , 5 times: 1\n",
      "Enter score91\n",
      "it is 2\n",
      "2 times :1 , 3 times: 1 , 4 times: 1 , 5 times: 1\n",
      "Enter score8\n",
      "it is 4\n",
      "2 times :1 , 3 times: 1 , 4 times: 1 , 5 times: 1\n"
     ]
    }
   ],
   "source": [
    "number_scores=int(input(\"Enter quantity of scores\"))\n",
    "\n",
    "counter5=0\n",
    "counter4=0\n",
    "counter3=0\n",
    "counter2=0\n",
    "\n",
    "score=0\n",
    "\n",
    "for i in range(1,number_scores+1):\n",
    "    score=int(input(\"Enter score\"))\n",
    "    if score%2==0 and score%5!=0 and score%3!=0 and score%13!=0:\n",
    "        print(\"it is 4\")\n",
    "        counter4=+1\n",
    "    elif score%2!=0 and score%5==0 and score%3!=0 and score%13!=0:\n",
    "        print(\"it is 5\")\n",
    "        counter5=+1\n",
    "    elif score%2!=0 and score%5!=0 and score%3==0 and score%13!=0:\n",
    "        print(\"it is 3\")\n",
    "        counter3+=1\n",
    "    else: #score%2!=0 and score%5!=0 and score%3!=0 and score%13=0:\n",
    "        print(\"it is 2\")\n",
    "        counter2+=1\n",
    "    \n",
    "    print(\"2 times :\"+ str(counter2)+\" , 3 times: \"+str(counter3)+\" , 4 times: \"+ str(counter4)+\" , 5 times: \"+str(counter5))"
   ]
  },
  {
   "cell_type": "code",
   "execution_count": null,
   "metadata": {
    "collapsed": true
   },
   "outputs": [],
   "source": []
  }
 ],
 "metadata": {
  "kernelspec": {
   "display_name": "Python 3",
   "language": "python",
   "name": "python3"
  },
  "language_info": {
   "codemirror_mode": {
    "name": "ipython",
    "version": 3
   },
   "file_extension": ".py",
   "mimetype": "text/x-python",
   "name": "python",
   "nbconvert_exporter": "python",
   "pygments_lexer": "ipython3",
   "version": "3.6.1"
  }
 },
 "nbformat": 4,
 "nbformat_minor": 2
}
